{
  "cells": [
    {
      "cell_type": "code",
      "source": [
        "# !pip install hazm parsivar"
      ],
      "metadata": {
        "id": "9C3pc_Rzjb_u"
      },
      "execution_count": 225,
      "outputs": []
    },
    {
      "cell_type": "code",
      "source": [
        "# pip install nltk"
      ],
      "metadata": {
        "id": "bZY2VvRNO4o-"
      },
      "execution_count": 44,
      "outputs": []
    },
    {
      "cell_type": "code",
      "source": [
        "# !pip install catboost"
      ],
      "metadata": {
        "id": "12kAm3jiPFBf"
      },
      "execution_count": 45,
      "outputs": []
    },
    {
      "cell_type": "code",
      "execution_count": 46,
      "metadata": {
        "id": "USy_aluFr7kK",
        "colab": {
          "base_uri": "https://localhost:8080/"
        },
        "outputId": "aff7d001-e8f0-49e0-e277-6b82a60c1d64"
      },
      "outputs": [
        {
          "output_type": "stream",
          "name": "stderr",
          "text": [
            "[nltk_data] Downloading package punkt to /root/nltk_data...\n",
            "[nltk_data]   Package punkt is already up-to-date!\n"
          ]
        }
      ],
      "source": [
        "import pandas as pd\n",
        "import numpy as np\n",
        "\n",
        "import matplotlib.pyplot as plt\n",
        "import seaborn as sns\n",
        "sns.set_style(\"darkgrid\")\n",
        "%matplotlib inline\n",
        "\n",
        "import missingno as msgn\n",
        "\n",
        "from sklearn.feature_extraction.text import TfidfVectorizer\n",
        "from sklearn.feature_extraction.text import CountVectorizer\n",
        "import re\n",
        "import string\n",
        "import hazm\n",
        "import nltk\n",
        "from hazm import word_tokenize\n",
        "from nltk import bigrams\n",
        "from parsivar import Tokenizer, FindStems\n",
        "from hazm.utils import stopwords_list\n",
        "from gensim.models import Word2Vec\n",
        "nltk.download('punkt')\n",
        "\n",
        "from sklearn.model_selection import train_test_split\n",
        "from sklearn.decomposition import PCA\n",
        "from sklearn.manifold import TSNE\n",
        "from sklearn.ensemble import RandomForestClassifier\n",
        "from sklearn.metrics import classification_report\n",
        "from sklearn import svm\n",
        "from imblearn.over_sampling import SMOTE\n",
        "import catboost\n",
        "from catboost import CatBoostClassifier\n",
        "import xgboost as xgb\n",
        "from sklearn.tree import DecisionTreeClassifier\n",
        "from sklearn.ensemble import GradientBoostingClassifier, StackingClassifier\n",
        "from sklearn.linear_model import LogisticRegression\n",
        "from sklearn.metrics import accuracy_score\n",
        "\n",
        "import multiprocessing"
      ]
    },
    {
      "cell_type": "markdown",
      "metadata": {
        "id": "WmYKFdXAr7kL"
      },
      "source": [
        "# 1- Loading data\n",
        "\n",
        "in this section, we are going to load and peform EDA steps on the dataset to gain insights about what we are dealing with."
      ]
    },
    {
      "cell_type": "code",
      "execution_count": 47,
      "metadata": {
        "id": "yevnslXmr7kL"
      },
      "outputs": [],
      "source": [
        "data = pd.read_excel('/content/train_data.xlsx', header=None)"
      ]
    },
    {
      "cell_type": "code",
      "execution_count": 48,
      "metadata": {
        "colab": {
          "base_uri": "https://localhost:8080/",
          "height": 206
        },
        "id": "xGoV7oAtr7kM",
        "outputId": "9af8d2e8-c3bb-47b9-e17d-0f75d9ff290f"
      },
      "outputs": [
        {
          "output_type": "execute_result",
          "data": {
            "text/plain": [
              "                                                   0      1\n",
              "0  کی گفته مرد گریه نمیکنه!؟!؟ سیلم امشب سیل #اصفهان    SAD\n",
              "1  عکسی که چند روز پیش گذاشته بودم این فیلم الانش...  OTHER\n",
              "2  تنهاییم شبیه تنهاییه ظهرای بچگیم شده وقتی که ه...    SAD\n",
              "3           خوبه تمام قسمت‌های گوشی رو محافظت می‌کنه  HAPPY\n",
              "4  این خاک مال مردمان است نه حاکمان #ایران #مهسا_...  ANGRY"
            ],
            "text/html": [
              "\n",
              "  <div id=\"df-df6ec6e1-9c19-4602-97d3-0c4b89900b03\" class=\"colab-df-container\">\n",
              "    <div>\n",
              "<style scoped>\n",
              "    .dataframe tbody tr th:only-of-type {\n",
              "        vertical-align: middle;\n",
              "    }\n",
              "\n",
              "    .dataframe tbody tr th {\n",
              "        vertical-align: top;\n",
              "    }\n",
              "\n",
              "    .dataframe thead th {\n",
              "        text-align: right;\n",
              "    }\n",
              "</style>\n",
              "<table border=\"1\" class=\"dataframe\">\n",
              "  <thead>\n",
              "    <tr style=\"text-align: right;\">\n",
              "      <th></th>\n",
              "      <th>0</th>\n",
              "      <th>1</th>\n",
              "    </tr>\n",
              "  </thead>\n",
              "  <tbody>\n",
              "    <tr>\n",
              "      <th>0</th>\n",
              "      <td>کی گفته مرد گریه نمیکنه!؟!؟ سیلم امشب سیل #اصفهان</td>\n",
              "      <td>SAD</td>\n",
              "    </tr>\n",
              "    <tr>\n",
              "      <th>1</th>\n",
              "      <td>عکسی که چند روز پیش گذاشته بودم این فیلم الانش...</td>\n",
              "      <td>OTHER</td>\n",
              "    </tr>\n",
              "    <tr>\n",
              "      <th>2</th>\n",
              "      <td>تنهاییم شبیه تنهاییه ظهرای بچگیم شده وقتی که ه...</td>\n",
              "      <td>SAD</td>\n",
              "    </tr>\n",
              "    <tr>\n",
              "      <th>3</th>\n",
              "      <td>خوبه تمام قسمت‌های گوشی رو محافظت می‌کنه</td>\n",
              "      <td>HAPPY</td>\n",
              "    </tr>\n",
              "    <tr>\n",
              "      <th>4</th>\n",
              "      <td>این خاک مال مردمان است نه حاکمان #ایران #مهسا_...</td>\n",
              "      <td>ANGRY</td>\n",
              "    </tr>\n",
              "  </tbody>\n",
              "</table>\n",
              "</div>\n",
              "    <div class=\"colab-df-buttons\">\n",
              "\n",
              "  <div class=\"colab-df-container\">\n",
              "    <button class=\"colab-df-convert\" onclick=\"convertToInteractive('df-df6ec6e1-9c19-4602-97d3-0c4b89900b03')\"\n",
              "            title=\"Convert this dataframe to an interactive table.\"\n",
              "            style=\"display:none;\">\n",
              "\n",
              "  <svg xmlns=\"http://www.w3.org/2000/svg\" height=\"24px\" viewBox=\"0 -960 960 960\">\n",
              "    <path d=\"M120-120v-720h720v720H120Zm60-500h600v-160H180v160Zm220 220h160v-160H400v160Zm0 220h160v-160H400v160ZM180-400h160v-160H180v160Zm440 0h160v-160H620v160ZM180-180h160v-160H180v160Zm440 0h160v-160H620v160Z\"/>\n",
              "  </svg>\n",
              "    </button>\n",
              "\n",
              "  <style>\n",
              "    .colab-df-container {\n",
              "      display:flex;\n",
              "      gap: 12px;\n",
              "    }\n",
              "\n",
              "    .colab-df-convert {\n",
              "      background-color: #E8F0FE;\n",
              "      border: none;\n",
              "      border-radius: 50%;\n",
              "      cursor: pointer;\n",
              "      display: none;\n",
              "      fill: #1967D2;\n",
              "      height: 32px;\n",
              "      padding: 0 0 0 0;\n",
              "      width: 32px;\n",
              "    }\n",
              "\n",
              "    .colab-df-convert:hover {\n",
              "      background-color: #E2EBFA;\n",
              "      box-shadow: 0px 1px 2px rgba(60, 64, 67, 0.3), 0px 1px 3px 1px rgba(60, 64, 67, 0.15);\n",
              "      fill: #174EA6;\n",
              "    }\n",
              "\n",
              "    .colab-df-buttons div {\n",
              "      margin-bottom: 4px;\n",
              "    }\n",
              "\n",
              "    [theme=dark] .colab-df-convert {\n",
              "      background-color: #3B4455;\n",
              "      fill: #D2E3FC;\n",
              "    }\n",
              "\n",
              "    [theme=dark] .colab-df-convert:hover {\n",
              "      background-color: #434B5C;\n",
              "      box-shadow: 0px 1px 3px 1px rgba(0, 0, 0, 0.15);\n",
              "      filter: drop-shadow(0px 1px 2px rgba(0, 0, 0, 0.3));\n",
              "      fill: #FFFFFF;\n",
              "    }\n",
              "  </style>\n",
              "\n",
              "    <script>\n",
              "      const buttonEl =\n",
              "        document.querySelector('#df-df6ec6e1-9c19-4602-97d3-0c4b89900b03 button.colab-df-convert');\n",
              "      buttonEl.style.display =\n",
              "        google.colab.kernel.accessAllowed ? 'block' : 'none';\n",
              "\n",
              "      async function convertToInteractive(key) {\n",
              "        const element = document.querySelector('#df-df6ec6e1-9c19-4602-97d3-0c4b89900b03');\n",
              "        const dataTable =\n",
              "          await google.colab.kernel.invokeFunction('convertToInteractive',\n",
              "                                                    [key], {});\n",
              "        if (!dataTable) return;\n",
              "\n",
              "        const docLinkHtml = 'Like what you see? Visit the ' +\n",
              "          '<a target=\"_blank\" href=https://colab.research.google.com/notebooks/data_table.ipynb>data table notebook</a>'\n",
              "          + ' to learn more about interactive tables.';\n",
              "        element.innerHTML = '';\n",
              "        dataTable['output_type'] = 'display_data';\n",
              "        await google.colab.output.renderOutput(dataTable, element);\n",
              "        const docLink = document.createElement('div');\n",
              "        docLink.innerHTML = docLinkHtml;\n",
              "        element.appendChild(docLink);\n",
              "      }\n",
              "    </script>\n",
              "  </div>\n",
              "\n",
              "\n",
              "<div id=\"df-521d26df-7e4e-470f-8000-e2561a7335db\">\n",
              "  <button class=\"colab-df-quickchart\" onclick=\"quickchart('df-521d26df-7e4e-470f-8000-e2561a7335db')\"\n",
              "            title=\"Suggest charts\"\n",
              "            style=\"display:none;\">\n",
              "\n",
              "<svg xmlns=\"http://www.w3.org/2000/svg\" height=\"24px\"viewBox=\"0 0 24 24\"\n",
              "     width=\"24px\">\n",
              "    <g>\n",
              "        <path d=\"M19 3H5c-1.1 0-2 .9-2 2v14c0 1.1.9 2 2 2h14c1.1 0 2-.9 2-2V5c0-1.1-.9-2-2-2zM9 17H7v-7h2v7zm4 0h-2V7h2v10zm4 0h-2v-4h2v4z\"/>\n",
              "    </g>\n",
              "</svg>\n",
              "  </button>\n",
              "\n",
              "<style>\n",
              "  .colab-df-quickchart {\n",
              "      --bg-color: #E8F0FE;\n",
              "      --fill-color: #1967D2;\n",
              "      --hover-bg-color: #E2EBFA;\n",
              "      --hover-fill-color: #174EA6;\n",
              "      --disabled-fill-color: #AAA;\n",
              "      --disabled-bg-color: #DDD;\n",
              "  }\n",
              "\n",
              "  [theme=dark] .colab-df-quickchart {\n",
              "      --bg-color: #3B4455;\n",
              "      --fill-color: #D2E3FC;\n",
              "      --hover-bg-color: #434B5C;\n",
              "      --hover-fill-color: #FFFFFF;\n",
              "      --disabled-bg-color: #3B4455;\n",
              "      --disabled-fill-color: #666;\n",
              "  }\n",
              "\n",
              "  .colab-df-quickchart {\n",
              "    background-color: var(--bg-color);\n",
              "    border: none;\n",
              "    border-radius: 50%;\n",
              "    cursor: pointer;\n",
              "    display: none;\n",
              "    fill: var(--fill-color);\n",
              "    height: 32px;\n",
              "    padding: 0;\n",
              "    width: 32px;\n",
              "  }\n",
              "\n",
              "  .colab-df-quickchart:hover {\n",
              "    background-color: var(--hover-bg-color);\n",
              "    box-shadow: 0 1px 2px rgba(60, 64, 67, 0.3), 0 1px 3px 1px rgba(60, 64, 67, 0.15);\n",
              "    fill: var(--button-hover-fill-color);\n",
              "  }\n",
              "\n",
              "  .colab-df-quickchart-complete:disabled,\n",
              "  .colab-df-quickchart-complete:disabled:hover {\n",
              "    background-color: var(--disabled-bg-color);\n",
              "    fill: var(--disabled-fill-color);\n",
              "    box-shadow: none;\n",
              "  }\n",
              "\n",
              "  .colab-df-spinner {\n",
              "    border: 2px solid var(--fill-color);\n",
              "    border-color: transparent;\n",
              "    border-bottom-color: var(--fill-color);\n",
              "    animation:\n",
              "      spin 1s steps(1) infinite;\n",
              "  }\n",
              "\n",
              "  @keyframes spin {\n",
              "    0% {\n",
              "      border-color: transparent;\n",
              "      border-bottom-color: var(--fill-color);\n",
              "      border-left-color: var(--fill-color);\n",
              "    }\n",
              "    20% {\n",
              "      border-color: transparent;\n",
              "      border-left-color: var(--fill-color);\n",
              "      border-top-color: var(--fill-color);\n",
              "    }\n",
              "    30% {\n",
              "      border-color: transparent;\n",
              "      border-left-color: var(--fill-color);\n",
              "      border-top-color: var(--fill-color);\n",
              "      border-right-color: var(--fill-color);\n",
              "    }\n",
              "    40% {\n",
              "      border-color: transparent;\n",
              "      border-right-color: var(--fill-color);\n",
              "      border-top-color: var(--fill-color);\n",
              "    }\n",
              "    60% {\n",
              "      border-color: transparent;\n",
              "      border-right-color: var(--fill-color);\n",
              "    }\n",
              "    80% {\n",
              "      border-color: transparent;\n",
              "      border-right-color: var(--fill-color);\n",
              "      border-bottom-color: var(--fill-color);\n",
              "    }\n",
              "    90% {\n",
              "      border-color: transparent;\n",
              "      border-bottom-color: var(--fill-color);\n",
              "    }\n",
              "  }\n",
              "</style>\n",
              "\n",
              "  <script>\n",
              "    async function quickchart(key) {\n",
              "      const quickchartButtonEl =\n",
              "        document.querySelector('#' + key + ' button');\n",
              "      quickchartButtonEl.disabled = true;  // To prevent multiple clicks.\n",
              "      quickchartButtonEl.classList.add('colab-df-spinner');\n",
              "      try {\n",
              "        const charts = await google.colab.kernel.invokeFunction(\n",
              "            'suggestCharts', [key], {});\n",
              "      } catch (error) {\n",
              "        console.error('Error during call to suggestCharts:', error);\n",
              "      }\n",
              "      quickchartButtonEl.classList.remove('colab-df-spinner');\n",
              "      quickchartButtonEl.classList.add('colab-df-quickchart-complete');\n",
              "    }\n",
              "    (() => {\n",
              "      let quickchartButtonEl =\n",
              "        document.querySelector('#df-521d26df-7e4e-470f-8000-e2561a7335db button');\n",
              "      quickchartButtonEl.style.display =\n",
              "        google.colab.kernel.accessAllowed ? 'block' : 'none';\n",
              "    })();\n",
              "  </script>\n",
              "</div>\n",
              "    </div>\n",
              "  </div>\n"
            ],
            "application/vnd.google.colaboratory.intrinsic+json": {
              "type": "dataframe",
              "variable_name": "data",
              "summary": "{\n  \"name\": \"data\",\n  \"rows\": 4924,\n  \"fields\": [\n    {\n      \"column\": 0,\n      \"properties\": {\n        \"dtype\": \"string\",\n        \"num_unique_values\": 4924,\n        \"samples\": [\n          \"\\u0641\\u0631\\u0627\\u062e\\u0648\\u0627\\u0646 \\u062a\\u062c\\u0645\\u0639 \\u0633\\u0631\\u0627\\u0633\\u0631\\u06cc \\u06a9\\u0627\\u0631\\u06a9\\u0646\\u0627\\u0646 \\u0631\\u0633\\u0645\\u06cc \\u0635\\u0646\\u0639\\u062a \\u0646\\u0641\\u062a \\u0633\\u0647\\u200c\\u0634\\u0646\\u0628\\u0647 \\u06f2\\u06f7 \\u062f\\u06cc\\u200c\\u0645\\u0627\\u0647 \\u06f1\\u06f4\\u06f0\\u06f1 #\\u0627\\u0639\\u062a\\u0631\\u0627\\u0636\\u0627\\u062a_\\u0633\\u0631\\u0627\\u0633\\u0631\\u06cc \",\n          \"\\u06af\\u0627\\u0632 \\u0646\\u062f\\u0627\\u0631\\u06cc\\u0645 \\u0622\\u0628 \\u0646\\u062f\\u0627\\u0631\\u06cc\\u0645 \\u0628\\u0631\\u0642 \\u0646\\u062f\\u0627\\u0631\\u06cc\\u0645 \\u0646\\u062a \\u0646\\u062f\\u0627\\u0631\\u06cc\\u0645 \\u067e\\u0648\\u0644 \\u0646\\u062f\\u0627\\u0631\\u06cc\\u0645 \\u0627\\u0639\\u0635\\u0627\\u0628 \\u0646\\u062f\\u0627\\u0631\\u06cc\\u0645 \\u0632\\u0646\\u062f\\u06af\\u06cc \\u0646\\u062f\\u0627\\u0631\\u06cc\\u0645 \\u06cc\\u0647 \\u062f\\u0648\\u0646\\u0647 \\u062f\\u0627\\u0631\\u06cc\\u0645 \\u0641\\u0639\\u0644\\u0627\",\n          \"\\u06a9\\u06cc\\u0641\\u06cc\\u062a\\u0634 \\u0627\\u06cc\\u0646\\u0642\\u062f \\u06a9\\u0645\\u0647 \\u06a9 \\u0628\\u0627 \\u06cc\\u0647 \\u0636\\u0631\\u0628\\u0647 \\u062e\\u0648\\u0631\\u062f \\u0645\\u06cc\\u0634\\u0647\"\n        ],\n        \"semantic_type\": \"\",\n        \"description\": \"\"\n      }\n    },\n    {\n      \"column\": 1,\n      \"properties\": {\n        \"dtype\": \"category\",\n        \"num_unique_values\": 5,\n        \"samples\": [\n          \"OTHER\",\n          \"FEAR\",\n          \"HAPPY\"\n        ],\n        \"semantic_type\": \"\",\n        \"description\": \"\"\n      }\n    }\n  ]\n}"
            }
          },
          "metadata": {},
          "execution_count": 48
        }
      ],
      "source": [
        "data.head()"
      ]
    },
    {
      "cell_type": "code",
      "execution_count": 49,
      "metadata": {
        "colab": {
          "base_uri": "https://localhost:8080/"
        },
        "id": "7idhYhM5r7kM",
        "outputId": "158e119e-50fc-4ff5-c5fd-cad637d23ac7"
      },
      "outputs": [
        {
          "output_type": "stream",
          "name": "stdout",
          "text": [
            "<class 'pandas.core.frame.DataFrame'>\n",
            "RangeIndex: 4924 entries, 0 to 4923\n",
            "Data columns (total 2 columns):\n",
            " #   Column  Non-Null Count  Dtype \n",
            "---  ------  --------------  ----- \n",
            " 0   0       4924 non-null   object\n",
            " 1   1       4924 non-null   object\n",
            "dtypes: object(2)\n",
            "memory usage: 77.1+ KB\n"
          ]
        }
      ],
      "source": [
        "data.info()"
      ]
    },
    {
      "cell_type": "code",
      "execution_count": 50,
      "metadata": {
        "colab": {
          "base_uri": "https://localhost:8080/",
          "height": 433
        },
        "id": "dXgDQDCyr7kM",
        "outputId": "c135f363-5dc5-4d14-ab04-ad0c2cf4e1fb"
      },
      "outputs": [
        {
          "output_type": "execute_result",
          "data": {
            "text/plain": [
              "<Axes: >"
            ]
          },
          "metadata": {},
          "execution_count": 50
        },
        {
          "output_type": "display_data",
          "data": {
            "text/plain": [
              "<Figure size 2500x1000 with 2 Axes>"
            ],
            "image/png": "[encoded data removed]"
          },
          "metadata": {}
        }
      ],
      "source": [
        "msgn.matrix(data)"
      ]
    },
    {
      "cell_type": "markdown",
      "metadata": {
        "id": "O-eb9bZqr7kM"
      },
      "source": [
        "# 2- Data preprocessing"
      ]
    },
    {
      "cell_type": "code",
      "execution_count": 51,
      "metadata": {
        "id": "FfbJJZEKr7kM"
      },
      "outputs": [],
      "source": [
        "X, y = data[0], data[1]\n",
        "x_train, x_test, y_train, y_test = train_test_split(X, y, test_size=0.1, random_state=42, stratify = y)"
      ]
    },
    {
      "cell_type": "code",
      "execution_count": 52,
      "metadata": {
        "id": "ewHBSATer7kM"
      },
      "outputs": [],
      "source": [
        "def count_punctuation(text):\n",
        "    punctuation_counts = {p: text.count(p) for p in string.punctuation}\n",
        "    return punctuation_counts\n",
        "\n",
        "punctuation_features_train = [count_punctuation(text) for text in x_train]\n",
        "punctuation_features_test = [count_punctuation(text) for text in x_test]"
      ]
    },
    {
      "cell_type": "code",
      "execution_count": 53,
      "metadata": {
        "id": "SVT-ieUEr7kN"
      },
      "outputs": [],
      "source": [
        "df_puncs_train = pd.DataFrame(punctuation_features_train, index=x_train.index)\n",
        "df_puncs_test = pd.DataFrame(punctuation_features_test, index=x_test.index)"
      ]
    },
    {
      "cell_type": "code",
      "source": [
        "def remove_non_persian(text):\n",
        "    # Persian alphabet characters including Persian numerals and punctuation\n",
        "    persian_alphabet = (\n",
        "        'ا' 'ب' 'پ' 'ت' 'ث' 'ج' 'چ' 'ح' 'خ' 'د' 'ذ' 'ر' 'ز' 'ژ' 'س' 'ش'\n",
        "        'ص' 'ض' 'ط' 'ظ' 'ع' 'غ' 'ف' 'ق' 'ک' 'گ' 'ل' 'م' 'ن' 'و' 'ه' 'ی'\n",
        "        'ء' 'آ' 'ئ' 'ؤ' 'ى' 'ۀ' ' '\n",
        "    )\n",
        "\n",
        "    punc = ('!' '?' '؟' '.')\n",
        "    # Persian numerals\n",
        "    persian_numerals = '۰۱۲۳۴۵۶۷۸۹'\n",
        "\n",
        "    # Combine Persian alphabet and numerals\n",
        "    persian_characters = persian_alphabet + persian_numerals + punc\n",
        "\n",
        "    # Create a regex pattern to match any character not in the Persian characters set\n",
        "    pattern = f'[^{persian_characters}]'\n",
        "\n",
        "    # Use re.sub() to replace all non-Persian characters with an empty string\n",
        "    cleaned_text = re.sub(pattern, '', text)\n",
        "\n",
        "    return cleaned_text"
      ],
      "metadata": {
        "id": "N7ADpP_TzAxE"
      },
      "execution_count": 54,
      "outputs": []
    },
    {
      "cell_type": "code",
      "execution_count": 55,
      "metadata": {
        "id": "89EBN5X0r7kN"
      },
      "outputs": [],
      "source": [
        "normalizer = hazm.Normalizer()\n",
        "\n",
        "def preprocess_text_1(text):\n",
        "\n",
        "    text = normalizer.normalize(text)\n",
        "    text = re.sub(r\"[^\\w\\s]\", \"\", text)\n",
        "    text = re.sub(r\"\\d+\", \"\", text)\n",
        "    text = re.sub(r\"\\s+\", \" \", text)\n",
        "\n",
        "    # convert arabic alphabet to persian\n",
        "    text = re.sub(pattern = 'ك' , repl = 'ک', string = text)\n",
        "    text = re.sub(pattern = 'ي' , repl = 'ی', string = text)\n",
        "    text = re.sub(pattern = 'ى' ,repl = 'ی', string = text)\n",
        "    text = re.sub(pattern = 'ئ', repl = 'ی', string = text)\n",
        "    text = re.sub(pattern = 'إ',repl =  'ا', string = text)\n",
        "    text = re.sub(pattern = 'أ' , repl = 'ا', string = text)\n",
        "    text = re.sub(pattern = 'ؤ' , repl = 'و', string = text)\n",
        "    text = re.sub(pattern = 'آ' , repl = 'ا', string = text)\n",
        "\n",
        "    return text\n",
        "\n",
        "def text_rokenizer(text):\n",
        "    tokens = word_tokenize(text)\n",
        "    return tokens\n",
        "\n",
        "\n",
        "x_train = x_train.apply(preprocess_text_1)\n",
        "x_test = x_test.apply(preprocess_text_1)\n",
        "\n",
        "x_train = x_train.apply(remove_non_persian)\n",
        "x_test = x_test.apply(remove_non_persian)"
      ]
    },
    {
      "cell_type": "code",
      "source": [
        "space_types = x_train.str.extractall(r'(\\s)').groupby(level=0).nunique()\n",
        "\n",
        "if space_types.max().item() == 1:\n",
        "    print(\"One Type of Space.\")\n",
        "else:\n",
        "    print(\"Multiple Types of Spaces.\")"
      ],
      "metadata": {
        "colab": {
          "base_uri": "https://localhost:8080/"
        },
        "id": "fgll-EzaG5Sh",
        "outputId": "53ed3ab8-6007-45c1-c9f1-0ca6a6815178"
      },
      "execution_count": 56,
      "outputs": [
        {
          "output_type": "stream",
          "name": "stdout",
          "text": [
            "One Type of Space.\n"
          ]
        }
      ]
    },
    {
      "cell_type": "code",
      "source": [
        "tokenizer = Tokenizer()\n",
        "stopwords = stopwords_list()\n",
        "\n",
        "def tokenize(text):\n",
        "    return tokenizer.tokenize_words(text)\n",
        "\n",
        "def remove_stopwords(tokens):\n",
        "    return [token for token in tokens if token not in stopwords]\n",
        "\n",
        "def preprocess_text(text, use_stemming=False):\n",
        "    tokens = tokenize(text)\n",
        "    tokens = remove_stopwords(tokens)\n",
        "    return ' '.join(tokens)\n",
        "\n",
        "def preprocess_series(text_series, use_stemming=False):\n",
        "    return text_series.apply(lambda x: preprocess_text(x, use_stemming))\n",
        "\n",
        "x_train = preprocess_series(x_train)\n",
        "print('Preprocessing for train done.')\n",
        "\n",
        "x_test = preprocess_series(x_test)\n",
        "print('Preprocessing for test done.')"
      ],
      "metadata": {
        "colab": {
          "base_uri": "https://localhost:8080/"
        },
        "id": "aLASw58dHFGR",
        "outputId": "594606cb-242a-48b9-8c6f-2897aa563496"
      },
      "execution_count": 57,
      "outputs": [
        {
          "output_type": "stream",
          "name": "stdout",
          "text": [
            "Preprocessing for train done.\n",
            "Preprocessing for test done.\n"
          ]
        }
      ]
    },
    {
      "cell_type": "markdown",
      "source": [
        "# Fast text hazm"
      ],
      "metadata": {
        "id": "QANtvU84WtHu"
      }
    },
    {
      "cell_type": "code",
      "execution_count": null,
      "metadata": {
        "colab": {
          "base_uri": "https://localhost:8080/"
        },
        "id": "YavbfIK3r7kO",
        "outputId": "3a15dc78-ded7-440d-ae81-c8975a2efc47"
      },
      "outputs": [
        {
          "output_type": "execute_result",
          "data": {
            "text/plain": [
              "array(['SAD', 'OTHER', 'HAPPY', 'ANGRY', 'FEAR'], dtype=object)"
            ]
          },
          "metadata": {},
          "execution_count": 257
        }
      ],
      "source": [
        "data[1].unique()"
      ]
    },
    {
      "cell_type": "code",
      "execution_count": null,
      "metadata": {
        "id": "Be2dGvRWr7kO"
      },
      "outputs": [],
      "source": [
        "maping = {'SAD' : 0, 'OTHER' : 1, 'HAPPY': 2, 'ANGRY': 3, 'FEAR': 4}\n",
        "y_train = y_train.map(maping)\n",
        "y_test = y_test.map(maping)"
      ]
    },
    {
      "cell_type": "code",
      "execution_count": null,
      "metadata": {
        "colab": {
          "base_uri": "https://localhost:8080/",
          "height": 447
        },
        "id": "KL_ovjlhr7kO",
        "outputId": "17097ea4-9bcc-4e47-85b3-b445a03079ce"
      },
      "outputs": [
        {
          "output_type": "execute_result",
          "data": {
            "text/plain": [
              "<BarContainer object of 5 artists>"
            ]
          },
          "metadata": {},
          "execution_count": 98
        },
        {
          "output_type": "display_data",
          "data": {
            "text/plain": [
              "<Figure size 640x480 with 1 Axes>"
            ],
            "image/png": "[encoded data removed]"
          },
          "metadata": {}
        }
      ],
      "source": [
        "plt.bar(x = y_train.unique(), height=y_train.value_counts())"
      ]
    },
    {
      "cell_type": "code",
      "source": [
        "from hazm import WordEmbedding"
      ],
      "metadata": {
        "id": "8yxIq96n4nkj"
      },
      "execution_count": 24,
      "outputs": []
    },
    {
      "cell_type": "code",
      "source": [
        "embedding = WordEmbedding(model_type='fasttext')"
      ],
      "metadata": {
        "id": "9qIsUzEk45I-"
      },
      "execution_count": 25,
      "outputs": []
    },
    {
      "cell_type": "code",
      "source": [
        "# !pip install mega.py"
      ],
      "metadata": {
        "colab": {
          "base_uri": "https://localhost:8080/"
        },
        "id": "bL7L7lgf5bTR",
        "outputId": "db252023-6c22-4ad1-e859-96269a7849e5"
      },
      "execution_count": 26,
      "outputs": [
        {
          "output_type": "stream",
          "name": "stdout",
          "text": [
            "Collecting mega.py\n",
            "  Downloading mega.py-1.0.8-py2.py3-none-any.whl (19 kB)\n",
            "Requirement already satisfied: requests>=0.10 in /usr/local/lib/python3.10/dist-packages (from mega.py) (2.31.0)\n",
            "Collecting pycryptodome<4.0.0,>=3.9.6 (from mega.py)\n",
            "  Downloading pycryptodome-3.20.0-cp35-abi3-manylinux_2_17_x86_64.manylinux2014_x86_64.whl (2.1 MB)\n",
            "\u001b[2K     \u001b[90m━━━━━━━━━━━━━━━━━━━━━━━━━━━━━━━━━━━━━━━━\u001b[0m \u001b[32m2.1/2.1 MB\u001b[0m \u001b[31m11.0 MB/s\u001b[0m eta \u001b[36m0:00:00\u001b[0m\n",
            "\u001b[?25hRequirement already satisfied: pathlib==1.0.1 in /usr/local/lib/python3.10/dist-packages (from mega.py) (1.0.1)\n",
            "Collecting tenacity<6.0.0,>=5.1.5 (from mega.py)\n",
            "  Downloading tenacity-5.1.5-py2.py3-none-any.whl (34 kB)\n",
            "Requirement already satisfied: charset-normalizer<4,>=2 in /usr/local/lib/python3.10/dist-packages (from requests>=0.10->mega.py) (3.3.2)\n",
            "Requirement already satisfied: idna<4,>=2.5 in /usr/local/lib/python3.10/dist-packages (from requests>=0.10->mega.py) (3.7)\n",
            "Requirement already satisfied: urllib3<3,>=1.21.1 in /usr/local/lib/python3.10/dist-packages (from requests>=0.10->mega.py) (2.0.7)\n",
            "Requirement already satisfied: certifi>=2017.4.17 in /usr/local/lib/python3.10/dist-packages (from requests>=0.10->mega.py) (2024.6.2)\n",
            "Requirement already satisfied: six>=1.9.0 in /usr/local/lib/python3.10/dist-packages (from tenacity<6.0.0,>=5.1.5->mega.py) (1.16.0)\n",
            "Installing collected packages: tenacity, pycryptodome, mega.py\n",
            "  Attempting uninstall: tenacity\n",
            "    Found existing installation: tenacity 8.3.0\n",
            "    Uninstalling tenacity-8.3.0:\n",
            "      Successfully uninstalled tenacity-8.3.0\n",
            "\u001b[31mERROR: pip's dependency resolver does not currently take into account all the packages that are installed. This behaviour is the source of the following dependency conflicts.\n",
            "plotly 5.15.0 requires tenacity>=6.2.0, but you have tenacity 5.1.5 which is incompatible.\u001b[0m\u001b[31m\n",
            "\u001b[0mSuccessfully installed mega.py-1.0.8 pycryptodome-3.20.0 tenacity-5.1.5\n"
          ]
        }
      ]
    },
    {
      "cell_type": "code",
      "source": [
        "# from mega import Mega\n",
        "\n",
        "# mega = Mega()\n",
        "\n",
        "# url = 'https://mega.nz/file/GqZUlbpS#XRYP5FHbPK2LnLZ8IExrhrw3ZQ-jclNSVCz59uEhrxY'\n",
        "\n",
        "# file = mega.download_url(url)\n",
        "\n",
        "# file_path = file.name\n",
        "# print(f\"Downloaded file: {file_path}\")"
      ],
      "metadata": {
        "colab": {
          "base_uri": "https://localhost:8080/"
        },
        "id": "2oyjqOG45cMa",
        "outputId": "89dff1b2-8ecd-44cc-84f7-b2a7fe008fcd"
      },
      "execution_count": 27,
      "outputs": [
        {
          "output_type": "stream",
          "name": "stdout",
          "text": [
            "Downloaded file: fasttext_model.zip\n"
          ]
        }
      ]
    },
    {
      "cell_type": "code",
      "source": [
        "# import zipfile\n",
        "# import os\n",
        "\n",
        "# zip_file_path = '/content/fasttext_model.zip'\n",
        "\n",
        "# # Specify the directory to extract to\n",
        "# extract_dir = '/content/extracted/'\n",
        "\n",
        "# # Create a ZipFile object\n",
        "# with zipfile.ZipFile(zip_file_path, 'r') as zip_ref:\n",
        "#     # Extract all the contents of zip file into the specified directory\n",
        "#     zip_ref.extractall(extract_dir)\n",
        "\n",
        "# print(f\"Files extracted to {extract_dir}\")"
      ],
      "metadata": {
        "colab": {
          "base_uri": "https://localhost:8080/"
        },
        "id": "Wm8wb0gI-l-h",
        "outputId": "a553ca76-6682-46c1-f41d-e4dc18ab9c91"
      },
      "execution_count": 28,
      "outputs": [
        {
          "output_type": "stream",
          "name": "stdout",
          "text": [
            "Files extracted to /content/extracted/\n"
          ]
        }
      ]
    },
    {
      "cell_type": "code",
      "source": [
        "embedding.load_model('/content/extracted/fasttext_skipgram_300.bin')"
      ],
      "metadata": {
        "id": "V4gR9drS5EIi"
      },
      "execution_count": 29,
      "outputs": []
    },
    {
      "cell_type": "code",
      "source": [
        "def get_embedding_vector(words):\n",
        "    vectors = [embedding[word] for word in words]\n",
        "    if vectors:\n",
        "        return np.mean(vectors, axis=0)\n",
        "    else:\n",
        "        return np.zeros(embedding.vector_size)"
      ],
      "metadata": {
        "id": "fL2OU4cA_SFh"
      },
      "execution_count": 58,
      "outputs": []
    },
    {
      "cell_type": "code",
      "source": [
        "tokenized_tweets_train = [word_tokenize(tweet) for tweet in x_train]\n",
        "tokenized_tweets_test = [word_tokenize(tweet) for tweet in x_test]\n",
        "\n",
        "df_train = np.array([get_embedding_vector(tweet) for tweet in tokenized_tweets_train])\n",
        "df_test = np.array([get_embedding_vector(tweet) for tweet in tokenized_tweets_test])"
      ],
      "metadata": {
        "id": "KTmwoh9N_TMB"
      },
      "execution_count": 204,
      "outputs": []
    },
    {
      "cell_type": "code",
      "source": [
        "clf = RandomForestClassifier(random_state=42)\n",
        "clf.fit(df_train, y_train)\n",
        "\n",
        "# Predict and evaluate\n",
        "y_pred = clf.predict(df_test)\n",
        "print('Accuracy:', accuracy_score(y_test, y_pred))"
      ],
      "metadata": {
        "colab": {
          "base_uri": "https://localhost:8080/"
        },
        "id": "DfpGJi3GAkuo",
        "outputId": "2c39015e-2b3e-4a19-aa70-559334031e2d"
      },
      "execution_count": 41,
      "outputs": [
        {
          "output_type": "stream",
          "name": "stdout",
          "text": [
            "Accuracy: 0.5862457722660653\n"
          ]
        }
      ]
    },
    {
      "cell_type": "markdown",
      "source": [
        "# Gensim doc2vec"
      ],
      "metadata": {
        "id": "Rh_VnOx4W4m9"
      }
    },
    {
      "cell_type": "code",
      "source": [
        "from sklearn.feature_selection import SelectKBest, chi2\n",
        "from sklearn.pipeline import Pipeline\n",
        "\n",
        "from sklearn.base import BaseEstimator, TransformerMixin\n",
        "from sklearn.pipeline import Pipeline, FeatureUnion\n",
        "from gensim.models import Doc2Vec\n",
        "from gensim.models.doc2vec import TaggedDocument\n",
        "from imblearn.over_sampling import KMeansSMOTE\n",
        "from imblearn.pipeline import Pipeline as ImbPipeline"
      ],
      "metadata": {
        "id": "fxhndcZnQDDU"
      },
      "execution_count": null,
      "outputs": []
    },
    {
      "cell_type": "code",
      "source": [
        "# Custom transformer for Doc2Vec\n",
        "class Doc2VecTransformer(BaseEstimator, TransformerMixin):\n",
        "    def __init__(self, vector_size=100, min_count=5, epochs=100):\n",
        "        self.vector_size = vector_size\n",
        "        self.min_count = min_count\n",
        "        self.epochs = epochs\n",
        "\n",
        "    def fit(self, X, y=None):\n",
        "        tagged_data = [TaggedDocument(words=doc.split(), tags=[i]) for i, doc in enumerate(X)]\n",
        "        self.model = Doc2Vec(vector_size=self.vector_size, min_count=self.min_count, epochs=self.epochs)\n",
        "        self.model.build_vocab(tagged_data)\n",
        "        self.model.train(tagged_data, total_examples=self.model.corpus_count, epochs=self.model.epochs)\n",
        "        return self\n",
        "\n",
        "    def transform(self, X):\n",
        "        return np.array([self.model.infer_vector(doc.split()) for doc in X])\n",
        "\n",
        "tfidf_vectorizer = TfidfVectorizer(ngram_range=(1, 2))\n",
        "\n",
        "doc2vec_transformer = Doc2VecTransformer()\n",
        "\n",
        "pipeline = Pipeline([\n",
        "    ('features', FeatureUnion([\n",
        "        ('tfidf', tfidf_vectorizer),\n",
        "        ('doc2vec', doc2vec_transformer)\n",
        "    ])),\n",
        "    ('clf', svm.SVC(kernel = 'poly', degree = 4, random_state = 42))\n",
        "])\n",
        "\n",
        "\n",
        "# Train the model\n",
        "pipeline.fit(x_train, y_train)"
      ],
      "metadata": {
        "colab": {
          "base_uri": "https://localhost:8080/",
          "height": 182
        },
        "id": "1D0ji9_wR4Hm",
        "outputId": "72f16095-f810-4b03-8408-29dbd04d0afb"
      },
      "execution_count": null,
      "outputs": [
        {
          "output_type": "execute_result",
          "data": {
            "text/plain": [
              "Pipeline(steps=[('features',\n",
              "                 FeatureUnion(transformer_list=[('tfidf',\n",
              "                                                 TfidfVectorizer(ngram_range=(1,\n",
              "                                                                              2))),\n",
              "                                                ('doc2vec',\n",
              "                                                 Doc2VecTransformer())])),\n",
              "                ('clf', SVC(degree=4, kernel='poly', random_state=42))])"
            ],
            "text/html": [
              "<style>#sk-container-id-2 {color: black;background-color: white;}#sk-container-id-2 pre{padding: 0;}#sk-container-id-2 div.sk-toggleable {background-color: white;}#sk-container-id-2 label.sk-toggleable__label {cursor: pointer;display: block;width: 100%;margin-bottom: 0;padding: 0.3em;box-sizing: border-box;text-align: center;}#sk-container-id-2 label.sk-toggleable__label-arrow:before {content: \"▸\";float: left;margin-right: 0.25em;color: #696969;}#sk-container-id-2 label.sk-toggleable__label-arrow:hover:before {color: black;}#sk-container-id-2 div.sk-estimator:hover label.sk-toggleable__label-arrow:before {color: black;}#sk-container-id-2 div.sk-toggleable__content {max-height: 0;max-width: 0;overflow: hidden;text-align: left;background-color: #f0f8ff;}#sk-container-id-2 div.sk-toggleable__content pre {margin: 0.2em;color: black;border-radius: 0.25em;background-color: #f0f8ff;}#sk-container-id-2 input.sk-toggleable__control:checked~div.sk-toggleable__content {max-height: 200px;max-width: 100%;overflow: auto;}#sk-container-id-2 input.sk-toggleable__control:checked~label.sk-toggleable__label-arrow:before {content: \"▾\";}#sk-container-id-2 div.sk-estimator input.sk-toggleable__control:checked~label.sk-toggleable__label {background-color: #d4ebff;}#sk-container-id-2 div.sk-label input.sk-toggleable__control:checked~label.sk-toggleable__label {background-color: #d4ebff;}#sk-container-id-2 input.sk-hidden--visually {border: 0;clip: rect(1px 1px 1px 1px);clip: rect(1px, 1px, 1px, 1px);height: 1px;margin: -1px;overflow: hidden;padding: 0;position: absolute;width: 1px;}#sk-container-id-2 div.sk-estimator {font-family: monospace;background-color: #f0f8ff;border: 1px dotted black;border-radius: 0.25em;box-sizing: border-box;margin-bottom: 0.5em;}#sk-container-id-2 div.sk-estimator:hover {background-color: #d4ebff;}#sk-container-id-2 div.sk-parallel-item::after {content: \"\";width: 100%;border-bottom: 1px solid gray;flex-grow: 1;}#sk-container-id-2 div.sk-label:hover label.sk-toggleable__label {background-color: #d4ebff;}#sk-container-id-2 div.sk-serial::before {content: \"\";position: absolute;border-left: 1px solid gray;box-sizing: border-box;top: 0;bottom: 0;left: 50%;z-index: 0;}#sk-container-id-2 div.sk-serial {display: flex;flex-direction: column;align-items: center;background-color: white;padding-right: 0.2em;padding-left: 0.2em;position: relative;}#sk-container-id-2 div.sk-item {position: relative;z-index: 1;}#sk-container-id-2 div.sk-parallel {display: flex;align-items: stretch;justify-content: center;background-color: white;position: relative;}#sk-container-id-2 div.sk-item::before, #sk-container-id-2 div.sk-parallel-item::before {content: \"\";position: absolute;border-left: 1px solid gray;box-sizing: border-box;top: 0;bottom: 0;left: 50%;z-index: -1;}#sk-container-id-2 div.sk-parallel-item {display: flex;flex-direction: column;z-index: 1;position: relative;background-color: white;}#sk-container-id-2 div.sk-parallel-item:first-child::after {align-self: flex-end;width: 50%;}#sk-container-id-2 div.sk-parallel-item:last-child::after {align-self: flex-start;width: 50%;}#sk-container-id-2 div.sk-parallel-item:only-child::after {width: 0;}#sk-container-id-2 div.sk-dashed-wrapped {border: 1px dashed gray;margin: 0 0.4em 0.5em 0.4em;box-sizing: border-box;padding-bottom: 0.4em;background-color: white;}#sk-container-id-2 div.sk-label label {font-family: monospace;font-weight: bold;display: inline-block;line-height: 1.2em;}#sk-container-id-2 div.sk-label-container {text-align: center;}#sk-container-id-2 div.sk-container {/* jupyter's `normalize.less` sets `[hidden] { display: none; }` but bootstrap.min.css set `[hidden] { display: none !important; }` so we also need the `!important` here to be able to override the default hidden behavior on the sphinx rendered scikit-learn.org. See: https://github.com/scikit-learn/scikit-learn/issues/21755 */display: inline-block !important;position: relative;}#sk-container-id-2 div.sk-text-repr-fallback {display: none;}</style><div id=\"sk-container-id-2\" class=\"sk-top-container\"><div class=\"sk-text-repr-fallback\"><pre>Pipeline(steps=[(&#x27;features&#x27;,\n",
              "                 FeatureUnion(transformer_list=[(&#x27;tfidf&#x27;,\n",
              "                                                 TfidfVectorizer(ngram_range=(1,\n",
              "                                                                              2))),\n",
              "                                                (&#x27;doc2vec&#x27;,\n",
              "                                                 Doc2VecTransformer())])),\n",
              "                (&#x27;clf&#x27;, SVC(degree=4, kernel=&#x27;poly&#x27;, random_state=42))])</pre><b>In a Jupyter environment, please rerun this cell to show the HTML representation or trust the notebook. <br />On GitHub, the HTML representation is unable to render, please try loading this page with nbviewer.org.</b></div><div class=\"sk-container\" hidden><div class=\"sk-item sk-dashed-wrapped\"><div class=\"sk-label-container\"><div class=\"sk-label sk-toggleable\"><input class=\"sk-toggleable__control sk-hidden--visually\" id=\"sk-estimator-id-6\" type=\"checkbox\" ><label for=\"sk-estimator-id-6\" class=\"sk-toggleable__label sk-toggleable__label-arrow\">Pipeline</label><div class=\"sk-toggleable__content\"><pre>Pipeline(steps=[(&#x27;features&#x27;,\n",
              "                 FeatureUnion(transformer_list=[(&#x27;tfidf&#x27;,\n",
              "                                                 TfidfVectorizer(ngram_range=(1,\n",
              "                                                                              2))),\n",
              "                                                (&#x27;doc2vec&#x27;,\n",
              "                                                 Doc2VecTransformer())])),\n",
              "                (&#x27;clf&#x27;, SVC(degree=4, kernel=&#x27;poly&#x27;, random_state=42))])</pre></div></div></div><div class=\"sk-serial\"><div class=\"sk-item sk-dashed-wrapped\"><div class=\"sk-label-container\"><div class=\"sk-label sk-toggleable\"><input class=\"sk-toggleable__control sk-hidden--visually\" id=\"sk-estimator-id-7\" type=\"checkbox\" ><label for=\"sk-estimator-id-7\" class=\"sk-toggleable__label sk-toggleable__label-arrow\">features: FeatureUnion</label><div class=\"sk-toggleable__content\"><pre>FeatureUnion(transformer_list=[(&#x27;tfidf&#x27;, TfidfVectorizer(ngram_range=(1, 2))),\n",
              "                               (&#x27;doc2vec&#x27;, Doc2VecTransformer())])</pre></div></div></div><div class=\"sk-parallel\"><div class=\"sk-parallel-item\"><div class=\"sk-item\"><div class=\"sk-label-container\"><div class=\"sk-label sk-toggleable\"><label>tfidf</label></div></div><div class=\"sk-serial\"><div class=\"sk-item\"><div class=\"sk-estimator sk-toggleable\"><input class=\"sk-toggleable__control sk-hidden--visually\" id=\"sk-estimator-id-8\" type=\"checkbox\" ><label for=\"sk-estimator-id-8\" class=\"sk-toggleable__label sk-toggleable__label-arrow\">TfidfVectorizer</label><div class=\"sk-toggleable__content\"><pre>TfidfVectorizer(ngram_range=(1, 2))</pre></div></div></div></div></div></div><div class=\"sk-parallel-item\"><div class=\"sk-item\"><div class=\"sk-label-container\"><div class=\"sk-label sk-toggleable\"><label>doc2vec</label></div></div><div class=\"sk-serial\"><div class=\"sk-item\"><div class=\"sk-estimator sk-toggleable\"><input class=\"sk-toggleable__control sk-hidden--visually\" id=\"sk-estimator-id-9\" type=\"checkbox\" ><label for=\"sk-estimator-id-9\" class=\"sk-toggleable__label sk-toggleable__label-arrow\">Doc2VecTransformer</label><div class=\"sk-toggleable__content\"><pre>Doc2VecTransformer()</pre></div></div></div></div></div></div></div></div><div class=\"sk-item\"><div class=\"sk-estimator sk-toggleable\"><input class=\"sk-toggleable__control sk-hidden--visually\" id=\"sk-estimator-id-10\" type=\"checkbox\" ><label for=\"sk-estimator-id-10\" class=\"sk-toggleable__label sk-toggleable__label-arrow\">SVC</label><div class=\"sk-toggleable__content\"><pre>SVC(degree=4, kernel=&#x27;poly&#x27;, random_state=42)</pre></div></div></div></div></div></div></div>"
            ]
          },
          "metadata": {},
          "execution_count": 46
        }
      ]
    },
    {
      "cell_type": "code",
      "source": [
        "# Predict and evaluate\n",
        "y_pred = pipeline.predict(x_test)\n",
        "print(classification_report(y_test, y_pred))"
      ],
      "metadata": {
        "colab": {
          "base_uri": "https://localhost:8080/"
        },
        "id": "j9n65-LoS6fs",
        "outputId": "4efe30c7-957b-43ce-f334-8cc16ec0e23f"
      },
      "execution_count": null,
      "outputs": [
        {
          "output_type": "stream",
          "name": "stdout",
          "text": [
            "              precision    recall  f1-score   support\n",
            "\n",
            "       ANGRY       0.33      0.17      0.22       101\n",
            "        FEAR       0.12      0.18      0.14        34\n",
            "       HAPPY       0.40      0.80      0.54       146\n",
            "       OTHER       0.28      0.10      0.15       127\n",
            "         SAD       0.30      0.19      0.23        85\n",
            "\n",
            "    accuracy                           0.34       493\n",
            "   macro avg       0.29      0.29      0.26       493\n",
            "weighted avg       0.32      0.34      0.29       493\n",
            "\n"
          ]
        }
      ]
    },
    {
      "cell_type": "markdown",
      "source": [
        "# Customise word2vec"
      ],
      "metadata": {
        "id": "H2diqjrjW7vl"
      }
    },
    {
      "cell_type": "code",
      "source": [
        "# Custom transformer for Word2Vec\n",
        "class Word2VecTransformer(BaseEstimator, TransformerMixin):\n",
        "    def __init__(self, vector_size=300, min_count=5, epochs=150, window = 6, sg = 1):\n",
        "        self.vector_size = vector_size\n",
        "        self.min_count = min_count\n",
        "        self.epochs = epochs\n",
        "        self.window = window\n",
        "        self.sg = sg\n",
        "\n",
        "    def fit(self, X, y=None):\n",
        "        sentences = [doc.split() for doc in X]\n",
        "\n",
        "        self.model = Word2Vec(\n",
        "            sentences,\n",
        "            vector_size=self.vector_size,\n",
        "            min_count=self.min_count,\n",
        "            epochs=self.epochs,\n",
        "            sg= self.sg,\n",
        "            window = self.window)\n",
        "        return self\n",
        "\n",
        "    def transform(self, X):\n",
        "        sentences = [doc.split() for doc in X]\n",
        "        return np.array([np.mean([self.model.wv[word] for word in sentence if word in self.model.wv] or [np.zeros(self.vector_size)], axis=0) for sentence in sentences])\n",
        "\n",
        "word2vec_transformer = Word2VecTransformer()\n",
        "\n",
        "# Define the pipeline\n",
        "pipeline = ImbPipeline([\n",
        "    ('features', FeatureUnion([\n",
        "        ('tfidf', TfidfVectorizer(ngram_range=(1,4),max_features=500)),\n",
        "        ('word2vec', word2vec_transformer)\n",
        "    ])),\n",
        "    ('smote', SMOTE(random_state=42)),\n",
        "    ('clf', RandomForestClassifier(random_state=42))\n",
        "])\n",
        "\n",
        "# Train the model\n",
        "pipeline.fit(x_train, y_train)\n",
        "\n",
        "# Predict and evaluate\n",
        "y_pred = pipeline.predict(x_test)\n",
        "print(classification_report(y_test, y_pred))"
      ],
      "metadata": {
        "colab": {
          "base_uri": "https://localhost:8080/"
        },
        "id": "FYZwWJZvPskw",
        "outputId": "6038f0eb-4085-4383-d325-1d13b9b91ee5"
      },
      "execution_count": null,
      "outputs": [
        {
          "metadata": {
            "tags": null
          },
          "name": "stdout",
          "output_type": "stream",
          "text": [
            "              precision    recall  f1-score   support\n",
            "\n",
            "       ANGRY       0.54      0.45      0.49       101\n",
            "        FEAR       0.40      0.50      0.45        34\n",
            "       HAPPY       0.79      0.73      0.75       146\n",
            "       OTHER       0.52      0.56      0.54       127\n",
            "         SAD       0.51      0.56      0.53        85\n",
            "\n",
            "    accuracy                           0.58       493\n",
            "   macro avg       0.55      0.56      0.55       493\n",
            "weighted avg       0.59      0.58      0.58       493\n",
            "\n"
          ]
        }
      ]
    },
    {
      "cell_type": "code",
      "source": [
        "# Predict and evaluate\n",
        "y_pred = pipeline.predict(x_train)\n",
        "print(classification_report(y_train, y_pred))"
      ],
      "metadata": {
        "colab": {
          "base_uri": "https://localhost:8080/"
        },
        "id": "ITN8PJQqWHFi",
        "outputId": "3e35b32c-57de-417e-81b2-12b19694c1d0"
      },
      "execution_count": null,
      "outputs": [
        {
          "output_type": "stream",
          "name": "stdout",
          "text": [
            "              precision    recall  f1-score   support\n",
            "\n",
            "       ANGRY       0.99      0.98      0.99       911\n",
            "        FEAR       0.99      1.00      1.00       308\n",
            "       HAPPY       0.99      0.98      0.99      1316\n",
            "       OTHER       0.96      0.98      0.97      1136\n",
            "         SAD       0.97      0.97      0.97       760\n",
            "\n",
            "    accuracy                           0.98      4431\n",
            "   macro avg       0.98      0.98      0.98      4431\n",
            "weighted avg       0.98      0.98      0.98      4431\n",
            "\n"
          ]
        }
      ]
    },
    {
      "cell_type": "markdown",
      "source": [
        "its a simple pipeline to test if the tf-idf using chi2 to feature selection is good.\n",
        "\n",
        "- I also tested the combination of the doc2vec and tf-idf, word2vec and tf-idf and other variants of word2vec feature sparsing like `chi2`. overall result were the same as before.\n",
        "- at last, best result was for this combination:\n",
        "- tf-idf with ngram_range = (1,2) and max_features = 500\n",
        "- word2vec with defined parameters.\n",
        "- SMOTE for balancing.\n",
        "- RandomForrest for classifier.\n",
        "- accuracy = 60%\n",
        "\n",
        "but we did a great improvement in overall result!! we started from 43% with raw tf-idf and 41% with raw word2vec."
      ],
      "metadata": {
        "id": "-24jxC44QP8K"
      }
    },
    {
      "cell_type": "markdown",
      "source": [
        "## TF-IDF and word2vec\n",
        "\n",
        "I tried hezarai embedding tools for word2vec features, it didnt perform well on the data, so i continued with the gensim word2vec model."
      ],
      "metadata": {
        "id": "0Wuke2GtwUg1"
      }
    },
    {
      "cell_type": "code",
      "source": [
        "tfidf_vectorizer = TfidfVectorizer()\n",
        "train_tfidf = tfidf_vectorizer.fit_transform(x_train)\n",
        "test_tfidf = tfidf_vectorizer.transform(x_test)"
      ],
      "metadata": {
        "id": "mlqunk2LtVex"
      },
      "execution_count": 185,
      "outputs": []
    },
    {
      "cell_type": "code",
      "source": [
        "train_tfidf.toarray().shape"
      ],
      "metadata": {
        "colab": {
          "base_uri": "https://localhost:8080/"
        },
        "id": "Y5-WD5QotWqI",
        "outputId": "6dbe6ec9-fe7f-4c47-e2ca-1dc9853db9f0"
      },
      "execution_count": 186,
      "outputs": [
        {
          "output_type": "execute_result",
          "data": {
            "text/plain": [
              "(4431, 9384)"
            ]
          },
          "metadata": {},
          "execution_count": 186
        }
      ]
    },
    {
      "cell_type": "code",
      "source": [
        "cores = multiprocessing.cpu_count() # Count the number of cores in a computer"
      ],
      "metadata": {
        "id": "hNpLLhPFdvTV"
      },
      "execution_count": null,
      "outputs": []
    },
    {
      "cell_type": "code",
      "source": [
        "sentences = [sentence.split() for sentence in x_train]\n",
        "\n",
        "w2v_model = Word2Vec(\n",
        "    sentences=sentences,\n",
        "    epochs = 150,\n",
        "    vector_size=300,  # You can choose the size of the word vectors\n",
        "    window=7,        # The maximum distance between the current and predicted word within a sentence\n",
        "    sg=1,            # Use skip-gram; if sg=0, CBOW is used\n",
        "    min_count=5,     # Ignores all words with total frequency lower than this\n",
        "    workers=cores        # Use these many worker threads to train the model\n",
        ")\n",
        "\n",
        "def vectorize(sentence):\n",
        "    words = sentence.split()\n",
        "    words_vecs = [w2v_model.wv[word] for word in words if word in w2v_model.wv]\n",
        "    if len(words_vecs) == 0:\n",
        "        return np.zeros(300)\n",
        "    words_vecs = np.array(words_vecs)\n",
        "    return words_vecs.mean(axis=0)\n",
        "\n",
        "# tfidf = TfidfVectorizer()\n",
        "# tfidf.fit(x_train)  # 'corpus' is a list of sentences\n",
        "\n",
        "# def tfidf_weighted_vectorize(sentence):\n",
        "#     words = sentence.split()\n",
        "#     word_vecs = []\n",
        "#     weights = []\n",
        "#     for word in words:\n",
        "#         if word in w2v_model.wv:\n",
        "#             word_vecs.append(w2v_model.wv[word])\n",
        "#             weights.append(tfidf.vocabulary_.get(word, 0))\n",
        "#     if not word_vecs:\n",
        "#         return np.zeros(300)\n",
        "#     word_vecs = np.array(word_vecs)\n",
        "#     weights = np.array(weights)\n",
        "#     return np.average(word_vecs, axis=0, weights=weights)\n",
        "\n",
        "x_train_w2v = np.array([vectorize(sentence) for sentence in x_train])\n",
        "x_test_w2v = np.array([vectorize(sentence) for sentence in x_test])\n",
        "# x_train_w2v = np.array([tfidf_weighted_vectorize(sentence) for sentence in x_train])\n",
        "# x_test_w2v = np.array([tfidf_weighted_vectorize(sentence) for sentence in x_test])"
      ],
      "metadata": {
        "id": "pkZZ9jbgHv4I"
      },
      "execution_count": null,
      "outputs": []
    },
    {
      "cell_type": "markdown",
      "source": [
        "## visualize the word2vec result"
      ],
      "metadata": {
        "id": "f7-cLdocgPIU"
      }
    },
    {
      "cell_type": "code",
      "source": [
        "def tsnescatterplot(model, word, list_names):\n",
        "    \"\"\" Plot in seaborn the results from the t-SNE dimensionality reduction algorithm of the vectors of a query word,\n",
        "    its list of most similar words, and a list of words.\n",
        "    \"\"\"\n",
        "    arrays = np.empty((0, 100), dtype='f')\n",
        "    word_labels = [word]\n",
        "    color_list  = ['red']\n",
        "\n",
        "    # adds the vector of the query word\n",
        "    arrays = np.append(arrays, model.wv.__getitem__([word]), axis=0)\n",
        "\n",
        "    # gets list of most similar words\n",
        "    close_words = model.wv.most_similar([word])\n",
        "\n",
        "    # adds the vector for each of the closest words to the array\n",
        "    for wrd_score in close_words:\n",
        "        wrd_vector = model.wv.__getitem__([wrd_score[0]])\n",
        "        word_labels.append(wrd_score[0])\n",
        "        color_list.append('blue')\n",
        "        arrays = np.append(arrays, wrd_vector, axis=0)\n",
        "\n",
        "    # adds the vector for each of the words from list_names to the array\n",
        "    for wrd in list_names:\n",
        "        wrd_vector = model.wv.__getitem__([wrd])\n",
        "        word_labels.append(wrd)\n",
        "        color_list.append('green')\n",
        "        arrays = np.append(arrays, wrd_vector, axis=0)\n",
        "\n",
        "    # Reduces the dimensionality from 300 to 50 dimensions with PCA\n",
        "    reduc = PCA(n_components=15).fit_transform(arrays)\n",
        "\n",
        "    # Finds t-SNE coordinates for 2 dimensions\n",
        "    np.set_printoptions(suppress=True)\n",
        "\n",
        "    Y = TSNE(n_components=2, random_state=0, perplexity=15).fit_transform(reduc)\n",
        "\n",
        "    # Sets everything up to plot\n",
        "    df = pd.DataFrame({'x': [x for x in Y[:, 0]],\n",
        "                       'y': [y for y in Y[:, 1]],\n",
        "                       'words': word_labels,\n",
        "                       'color': color_list})\n",
        "\n",
        "    fig, _ = plt.subplots()\n",
        "    fig.set_size_inches(9, 9)\n",
        "\n",
        "    # Basic plot\n",
        "    p1 = sns.regplot(data=df,\n",
        "                     x=\"x\",\n",
        "                     y=\"y\",\n",
        "                     fit_reg=False,\n",
        "                     marker=\"o\",\n",
        "                     scatter_kws={'s': 40,\n",
        "                                  'facecolors': df['color']\n",
        "                                 }\n",
        "                    )\n",
        "\n",
        "    # Adds annotations one by one with a loop\n",
        "    for line in range(0, df.shape[0]):\n",
        "         p1.text(df[\"x\"][line],\n",
        "                 df['y'][line],\n",
        "                 '  ' + df[\"words\"][line].title(),\n",
        "                 horizontalalignment='left',\n",
        "                 verticalalignment='bottom', size='medium',\n",
        "                 color=df['color'][line],\n",
        "                 weight='normal'\n",
        "                ).set_size(15)\n",
        "\n",
        "\n",
        "    plt.xlim(Y[:, 0].min()-50, Y[:, 0].max()+50)\n",
        "    plt.ylim(Y[:, 1].min()-50, Y[:, 1].max()+50)\n",
        "\n",
        "    plt.title('t-SNE visualization for {}'.format(word.title()))"
      ],
      "metadata": {
        "id": "olMDdAbleUg1"
      },
      "execution_count": null,
      "outputs": []
    },
    {
      "cell_type": "code",
      "source": [
        "tsnescatterplot(w2v_model, 'ایران', ['مرگ', 'زندگی', 'بد', 'هواپیما', 'کتاب', 'فشار', 'درد', 'مهسا'])"
      ],
      "metadata": {
        "id": "BoyR0bDHPPaP"
      },
      "execution_count": null,
      "outputs": []
    },
    {
      "cell_type": "markdown",
      "source": [
        "we also train a model for tuning the vectorizer model to find best parameters, the best result was for current set of parameters."
      ],
      "metadata": {
        "id": "clGRXXEM2gwz"
      }
    },
    {
      "cell_type": "code",
      "source": [
        "# temp = ''\n",
        "# for text in x_train:\n",
        "#   temp += '\\n' + text\n",
        "# with open('big_string.txt', 'w') as f:\n",
        "#   f.write(temp)"
      ],
      "metadata": {
        "id": "xBsUn2aHF-Jh"
      },
      "execution_count": null,
      "outputs": []
    },
    {
      "cell_type": "code",
      "source": [
        "df_train = np.concatenate((x_train_w2v, train_tfidf.toarray()), axis = 1)\n",
        "df_test = np.concatenate((x_test_w2v, test_tfidf.toarray()), axis = 1)"
      ],
      "metadata": {
        "id": "z_E9J5VaIfOh"
      },
      "execution_count": null,
      "outputs": []
    },
    {
      "cell_type": "code",
      "source": [
        "df_train = pd.DataFrame(df_train, columns = np.arange(df_train.shape[1]), index = x_train.index)\n",
        "df_test = pd.DataFrame(df_test, columns = np.arange(df_test.shape[1]), index = x_test.index)"
      ],
      "metadata": {
        "id": "fnhLLlTvKxgX"
      },
      "execution_count": null,
      "outputs": []
    },
    {
      "cell_type": "code",
      "source": [
        "df_train.columns = df_train.columns.astype(str)\n",
        "df_test.columns = df_test.columns.astype(str)"
      ],
      "metadata": {
        "id": "_Plh6G8oSpQ4"
      },
      "execution_count": null,
      "outputs": []
    },
    {
      "cell_type": "markdown",
      "metadata": {
        "id": "w6qOGs8Br7kN"
      },
      "source": [
        "## PCA on the TF-IDF and w2v features to reduce the dimensions"
      ]
    },
    {
      "cell_type": "code",
      "execution_count": null,
      "metadata": {
        "id": "30E2nhLMr7kN"
      },
      "outputs": [],
      "source": [
        "# Initialize PCA, let's assume we want to reduce to 2 components for visualization\n",
        "pca = PCA(n_components=3)\n",
        "# Fit and transform the TF-IDF and w2v features\n",
        "pca_features = pca.fit_transform(df_train)\n",
        "pca_features_test = pca.transform(df_test)"
      ]
    },
    {
      "cell_type": "code",
      "source": [
        "df_pca_train = pd.DataFrame(pca_features, columns = ['PC1', 'PC2', 'PC3'], index = x_train.index)\n",
        "df_pca_test = pd.DataFrame(pca_features_test, columns = ['PC1', 'PC2', 'PC3'], index = x_test.index)"
      ],
      "metadata": {
        "id": "wzPF0oOW376J"
      },
      "execution_count": null,
      "outputs": []
    },
    {
      "cell_type": "code",
      "source": [
        "df_train = pd.concat([df_train, df_pca_train], axis = 1)\n",
        "df_test = pd.concat([df_test, df_pca_test], axis = 1)"
      ],
      "metadata": {
        "id": "UJAvVT0940Z4"
      },
      "execution_count": null,
      "outputs": []
    },
    {
      "cell_type": "code",
      "execution_count": null,
      "metadata": {
        "id": "ODQ6oqsWr7kN"
      },
      "outputs": [],
      "source": [
        "df_train.columns = df_train.columns.astype(str)\n",
        "df_test.columns = df_test.columns.astype(str)"
      ]
    },
    {
      "cell_type": "markdown",
      "metadata": {
        "id": "b76im4RFr7kN"
      },
      "source": [
        "### Encode target column"
      ]
    },
    {
      "cell_type": "markdown",
      "metadata": {
        "id": "V4yVnQ-Fr7kO"
      },
      "source": [
        "it seems to be a little imbalance distribution over classes, we may need to balance them later on."
      ]
    },
    {
      "cell_type": "markdown",
      "metadata": {
        "id": "YnGl5kCAr7kO"
      },
      "source": [
        "# 3- Model training"
      ]
    },
    {
      "cell_type": "code",
      "execution_count": 62,
      "metadata": {
        "id": "OzQBhB2yr7kO"
      },
      "outputs": [],
      "source": [
        "def classification_results(y_pred, y_true, phase, method = ''):\n",
        "    print(f\"{method} Classification Report {phase}:\")\n",
        "    print(classification_report(y_true, y_pred))"
      ]
    },
    {
      "cell_type": "code",
      "execution_count": 63,
      "metadata": {
        "id": "tZPZVnsBr7kO"
      },
      "outputs": [],
      "source": [
        "# Visualization\n",
        "def plot_classification_report(y_true, y_pred, title = ''):\n",
        "    report = classification_report(y_true, y_pred, output_dict=True)\n",
        "    df = pd.DataFrame(report).transpose()\n",
        "    sns.heatmap(df.iloc[:-1, :-1], annot=True, cmap=\"YlGnBu\")\n",
        "    plt.title(title)\n",
        "    plt.show()"
      ]
    },
    {
      "cell_type": "code",
      "execution_count": null,
      "metadata": {
        "colab": {
          "base_uri": "https://localhost:8080/",
          "height": 74
        },
        "id": "cS7Fh6_cr7kO",
        "outputId": "25b91553-8fb9-4faa-f791-b900b8b3744b"
      },
      "outputs": [
        {
          "output_type": "execute_result",
          "data": {
            "text/plain": [
              "RandomForestClassifier(random_state=42)"
            ],
            "text/html": [
              "<style>#sk-container-id-34 {color: black;background-color: white;}#sk-container-id-34 pre{padding: 0;}#sk-container-id-34 div.sk-toggleable {background-color: white;}#sk-container-id-34 label.sk-toggleable__label {cursor: pointer;display: block;width: 100%;margin-bottom: 0;padding: 0.3em;box-sizing: border-box;text-align: center;}#sk-container-id-34 label.sk-toggleable__label-arrow:before {content: \"▸\";float: left;margin-right: 0.25em;color: #696969;}#sk-container-id-34 label.sk-toggleable__label-arrow:hover:before {color: black;}#sk-container-id-34 div.sk-estimator:hover label.sk-toggleable__label-arrow:before {color: black;}#sk-container-id-34 div.sk-toggleable__content {max-height: 0;max-width: 0;overflow: hidden;text-align: left;background-color: #f0f8ff;}#sk-container-id-34 div.sk-toggleable__content pre {margin: 0.2em;color: black;border-radius: 0.25em;background-color: #f0f8ff;}#sk-container-id-34 input.sk-toggleable__control:checked~div.sk-toggleable__content {max-height: 200px;max-width: 100%;overflow: auto;}#sk-container-id-34 input.sk-toggleable__control:checked~label.sk-toggleable__label-arrow:before {content: \"▾\";}#sk-container-id-34 div.sk-estimator input.sk-toggleable__control:checked~label.sk-toggleable__label {background-color: #d4ebff;}#sk-container-id-34 div.sk-label input.sk-toggleable__control:checked~label.sk-toggleable__label {background-color: #d4ebff;}#sk-container-id-34 input.sk-hidden--visually {border: 0;clip: rect(1px 1px 1px 1px);clip: rect(1px, 1px, 1px, 1px);height: 1px;margin: -1px;overflow: hidden;padding: 0;position: absolute;width: 1px;}#sk-container-id-34 div.sk-estimator {font-family: monospace;background-color: #f0f8ff;border: 1px dotted black;border-radius: 0.25em;box-sizing: border-box;margin-bottom: 0.5em;}#sk-container-id-34 div.sk-estimator:hover {background-color: #d4ebff;}#sk-container-id-34 div.sk-parallel-item::after {content: \"\";width: 100%;border-bottom: 1px solid gray;flex-grow: 1;}#sk-container-id-34 div.sk-label:hover label.sk-toggleable__label {background-color: #d4ebff;}#sk-container-id-34 div.sk-serial::before {content: \"\";position: absolute;border-left: 1px solid gray;box-sizing: border-box;top: 0;bottom: 0;left: 50%;z-index: 0;}#sk-container-id-34 div.sk-serial {display: flex;flex-direction: column;align-items: center;background-color: white;padding-right: 0.2em;padding-left: 0.2em;position: relative;}#sk-container-id-34 div.sk-item {position: relative;z-index: 1;}#sk-container-id-34 div.sk-parallel {display: flex;align-items: stretch;justify-content: center;background-color: white;position: relative;}#sk-container-id-34 div.sk-item::before, #sk-container-id-34 div.sk-parallel-item::before {content: \"\";position: absolute;border-left: 1px solid gray;box-sizing: border-box;top: 0;bottom: 0;left: 50%;z-index: -1;}#sk-container-id-34 div.sk-parallel-item {display: flex;flex-direction: column;z-index: 1;position: relative;background-color: white;}#sk-container-id-34 div.sk-parallel-item:first-child::after {align-self: flex-end;width: 50%;}#sk-container-id-34 div.sk-parallel-item:last-child::after {align-self: flex-start;width: 50%;}#sk-container-id-34 div.sk-parallel-item:only-child::after {width: 0;}#sk-container-id-34 div.sk-dashed-wrapped {border: 1px dashed gray;margin: 0 0.4em 0.5em 0.4em;box-sizing: border-box;padding-bottom: 0.4em;background-color: white;}#sk-container-id-34 div.sk-label label {font-family: monospace;font-weight: bold;display: inline-block;line-height: 1.2em;}#sk-container-id-34 div.sk-label-container {text-align: center;}#sk-container-id-34 div.sk-container {/* jupyter's `normalize.less` sets `[hidden] { display: none; }` but bootstrap.min.css set `[hidden] { display: none !important; }` so we also need the `!important` here to be able to override the default hidden behavior on the sphinx rendered scikit-learn.org. See: https://github.com/scikit-learn/scikit-learn/issues/21755 */display: inline-block !important;position: relative;}#sk-container-id-34 div.sk-text-repr-fallback {display: none;}</style><div id=\"sk-container-id-34\" class=\"sk-top-container\"><div class=\"sk-text-repr-fallback\"><pre>RandomForestClassifier(random_state=42)</pre><b>In a Jupyter environment, please rerun this cell to show the HTML representation or trust the notebook. <br />On GitHub, the HTML representation is unable to render, please try loading this page with nbviewer.org.</b></div><div class=\"sk-container\" hidden><div class=\"sk-item\"><div class=\"sk-estimator sk-toggleable\"><input class=\"sk-toggleable__control sk-hidden--visually\" id=\"sk-estimator-id-34\" type=\"checkbox\" checked><label for=\"sk-estimator-id-34\" class=\"sk-toggleable__label sk-toggleable__label-arrow\">RandomForestClassifier</label><div class=\"sk-toggleable__content\"><pre>RandomForestClassifier(random_state=42)</pre></div></div></div></div></div>"
            ]
          },
          "metadata": {},
          "execution_count": 234
        }
      ],
      "source": [
        "rf = RandomForestClassifier(n_estimators= 100, random_state=42)\n",
        "# rf.fit(df_train, y_train)\n",
        "rf.fit(x_train_w2v, y_train)"
      ]
    },
    {
      "cell_type": "code",
      "source": [
        "# classification_results(y_true=y_train, y_pred=rf.predict(df_train), phase='Train')\n",
        "classification_results(y_true=y_train, y_pred=rf.predict(x_train_w2v), phase='Train')"
      ],
      "metadata": {
        "colab": {
          "base_uri": "https://localhost:8080/"
        },
        "id": "JMkxvSENlbg2",
        "outputId": "d2f37dc6-12bb-4e56-c248-7dfedc109fdb"
      },
      "execution_count": null,
      "outputs": [
        {
          "output_type": "stream",
          "name": "stdout",
          "text": [
            " Classification Report Train:\n",
            "              precision    recall  f1-score   support\n",
            "\n",
            "           0       0.99      0.96      0.97       760\n",
            "           1       0.97      0.98      0.98      1136\n",
            "           2       0.97      0.99      0.98      1316\n",
            "           3       0.99      0.98      0.99       911\n",
            "           4       1.00      0.99      1.00       308\n",
            "\n",
            "    accuracy                           0.98      4431\n",
            "   macro avg       0.98      0.98      0.98      4431\n",
            "weighted avg       0.98      0.98      0.98      4431\n",
            "\n"
          ]
        }
      ]
    },
    {
      "cell_type": "code",
      "execution_count": null,
      "metadata": {
        "id": "hvSUOKhLr7kO"
      },
      "outputs": [],
      "source": [
        "# y_pred = rf.predict(df_test)\n",
        "y_pred = rf.predict(x_test_w2v)"
      ]
    },
    {
      "cell_type": "code",
      "execution_count": null,
      "metadata": {
        "colab": {
          "base_uri": "https://localhost:8080/"
        },
        "id": "XpvBZqIBr7kO",
        "outputId": "3a2a153c-f741-4fc1-ced7-80b30e1612da"
      },
      "outputs": [
        {
          "output_type": "stream",
          "name": "stdout",
          "text": [
            " Classification Report Test:\n",
            "              precision    recall  f1-score   support\n",
            "\n",
            "           0       0.46      0.38      0.42        85\n",
            "           1       0.47      0.73      0.57       127\n",
            "           2       0.79      0.80      0.79       146\n",
            "           3       0.62      0.40      0.48       101\n",
            "           4       0.60      0.18      0.27        34\n",
            "\n",
            "    accuracy                           0.58       493\n",
            "   macro avg       0.59      0.50      0.51       493\n",
            "weighted avg       0.60      0.58      0.57       493\n",
            "\n"
          ]
        }
      ],
      "source": [
        "classification_results(y_true=y_test, y_pred=y_pred, phase='Test')"
      ]
    },
    {
      "cell_type": "code",
      "source": [
        "rf = RandomForestClassifier(n_estimators= 100, random_state=42)\n",
        "rf.fit(df_train, y_train)\n",
        "y_pred = rf.predict(df_test)\n",
        "# rf.fit(x_train_w2v, y_train)\n",
        "print(accuracy_score(y_test, y_pred))"
      ],
      "metadata": {
        "colab": {
          "base_uri": "https://localhost:8080/"
        },
        "id": "8qFSOdCoaWBR",
        "outputId": "cf623fab-f836-4232-f9fd-ec00f78e0c73"
      },
      "execution_count": null,
      "outputs": [
        {
          "output_type": "stream",
          "name": "stdout",
          "text": [
            "0.5679513184584178\n"
          ]
        }
      ]
    },
    {
      "cell_type": "markdown",
      "source": [
        "## Test SVM on w2v features"
      ],
      "metadata": {
        "id": "tsrT91Y0Qly_"
      }
    },
    {
      "cell_type": "code",
      "source": [
        "svc = svm.SVC(kernel = 'rbf', degree = 1, C= 0.8)\n",
        "svc.fit(df_train, y_train)"
      ],
      "metadata": {
        "colab": {
          "base_uri": "https://localhost:8080/",
          "height": 74
        },
        "id": "v4lsx7oKQlbe",
        "outputId": "92b43929-a9c3-4adc-c028-f363f8b143d6"
      },
      "execution_count": 178,
      "outputs": [
        {
          "output_type": "execute_result",
          "data": {
            "text/plain": [
              "SVC(C=0.8, degree=1)"
            ],
            "text/html": [
              "<style>#sk-container-id-19 {color: black;background-color: white;}#sk-container-id-19 pre{padding: 0;}#sk-container-id-19 div.sk-toggleable {background-color: white;}#sk-container-id-19 label.sk-toggleable__label {cursor: pointer;display: block;width: 100%;margin-bottom: 0;padding: 0.3em;box-sizing: border-box;text-align: center;}#sk-container-id-19 label.sk-toggleable__label-arrow:before {content: \"▸\";float: left;margin-right: 0.25em;color: #696969;}#sk-container-id-19 label.sk-toggleable__label-arrow:hover:before {color: black;}#sk-container-id-19 div.sk-estimator:hover label.sk-toggleable__label-arrow:before {color: black;}#sk-container-id-19 div.sk-toggleable__content {max-height: 0;max-width: 0;overflow: hidden;text-align: left;background-color: #f0f8ff;}#sk-container-id-19 div.sk-toggleable__content pre {margin: 0.2em;color: black;border-radius: 0.25em;background-color: #f0f8ff;}#sk-container-id-19 input.sk-toggleable__control:checked~div.sk-toggleable__content {max-height: 200px;max-width: 100%;overflow: auto;}#sk-container-id-19 input.sk-toggleable__control:checked~label.sk-toggleable__label-arrow:before {content: \"▾\";}#sk-container-id-19 div.sk-estimator input.sk-toggleable__control:checked~label.sk-toggleable__label {background-color: #d4ebff;}#sk-container-id-19 div.sk-label input.sk-toggleable__control:checked~label.sk-toggleable__label {background-color: #d4ebff;}#sk-container-id-19 input.sk-hidden--visually {border: 0;clip: rect(1px 1px 1px 1px);clip: rect(1px, 1px, 1px, 1px);height: 1px;margin: -1px;overflow: hidden;padding: 0;position: absolute;width: 1px;}#sk-container-id-19 div.sk-estimator {font-family: monospace;background-color: #f0f8ff;border: 1px dotted black;border-radius: 0.25em;box-sizing: border-box;margin-bottom: 0.5em;}#sk-container-id-19 div.sk-estimator:hover {background-color: #d4ebff;}#sk-container-id-19 div.sk-parallel-item::after {content: \"\";width: 100%;border-bottom: 1px solid gray;flex-grow: 1;}#sk-container-id-19 div.sk-label:hover label.sk-toggleable__label {background-color: #d4ebff;}#sk-container-id-19 div.sk-serial::before {content: \"\";position: absolute;border-left: 1px solid gray;box-sizing: border-box;top: 0;bottom: 0;left: 50%;z-index: 0;}#sk-container-id-19 div.sk-serial {display: flex;flex-direction: column;align-items: center;background-color: white;padding-right: 0.2em;padding-left: 0.2em;position: relative;}#sk-container-id-19 div.sk-item {position: relative;z-index: 1;}#sk-container-id-19 div.sk-parallel {display: flex;align-items: stretch;justify-content: center;background-color: white;position: relative;}#sk-container-id-19 div.sk-item::before, #sk-container-id-19 div.sk-parallel-item::before {content: \"\";position: absolute;border-left: 1px solid gray;box-sizing: border-box;top: 0;bottom: 0;left: 50%;z-index: -1;}#sk-container-id-19 div.sk-parallel-item {display: flex;flex-direction: column;z-index: 1;position: relative;background-color: white;}#sk-container-id-19 div.sk-parallel-item:first-child::after {align-self: flex-end;width: 50%;}#sk-container-id-19 div.sk-parallel-item:last-child::after {align-self: flex-start;width: 50%;}#sk-container-id-19 div.sk-parallel-item:only-child::after {width: 0;}#sk-container-id-19 div.sk-dashed-wrapped {border: 1px dashed gray;margin: 0 0.4em 0.5em 0.4em;box-sizing: border-box;padding-bottom: 0.4em;background-color: white;}#sk-container-id-19 div.sk-label label {font-family: monospace;font-weight: bold;display: inline-block;line-height: 1.2em;}#sk-container-id-19 div.sk-label-container {text-align: center;}#sk-container-id-19 div.sk-container {/* jupyter's `normalize.less` sets `[hidden] { display: none; }` but bootstrap.min.css set `[hidden] { display: none !important; }` so we also need the `!important` here to be able to override the default hidden behavior on the sphinx rendered scikit-learn.org. See: https://github.com/scikit-learn/scikit-learn/issues/21755 */display: inline-block !important;position: relative;}#sk-container-id-19 div.sk-text-repr-fallback {display: none;}</style><div id=\"sk-container-id-19\" class=\"sk-top-container\"><div class=\"sk-text-repr-fallback\"><pre>SVC(C=0.8, degree=1)</pre><b>In a Jupyter environment, please rerun this cell to show the HTML representation or trust the notebook. <br />On GitHub, the HTML representation is unable to render, please try loading this page with nbviewer.org.</b></div><div class=\"sk-container\" hidden><div class=\"sk-item\"><div class=\"sk-estimator sk-toggleable\"><input class=\"sk-toggleable__control sk-hidden--visually\" id=\"sk-estimator-id-19\" type=\"checkbox\" checked><label for=\"sk-estimator-id-19\" class=\"sk-toggleable__label sk-toggleable__label-arrow\">SVC</label><div class=\"sk-toggleable__content\"><pre>SVC(C=0.8, degree=1)</pre></div></div></div></div></div>"
            ]
          },
          "metadata": {},
          "execution_count": 178
        }
      ]
    },
    {
      "cell_type": "code",
      "source": [
        "classification_results(y_true=y_train, y_pred=svc.predict(df_train), phase='Train')"
      ],
      "metadata": {
        "colab": {
          "base_uri": "https://localhost:8080/"
        },
        "id": "plQp15nAQ-5V",
        "outputId": "0f2665b6-a49a-4fa1-ee85-32d8e69eeecc"
      },
      "execution_count": 179,
      "outputs": [
        {
          "output_type": "stream",
          "name": "stdout",
          "text": [
            " Classification Report Train:\n",
            "              precision    recall  f1-score   support\n",
            "\n",
            "           0       0.68      0.73      0.71       760\n",
            "           1       0.58      0.81      0.68      1136\n",
            "           2       0.92      0.78      0.85      1316\n",
            "           3       0.77      0.62      0.68       911\n",
            "           4       0.77      0.42      0.54       308\n",
            "\n",
            "    accuracy                           0.72      4431\n",
            "   macro avg       0.74      0.67      0.69      4431\n",
            "weighted avg       0.75      0.72      0.72      4431\n",
            "\n"
          ]
        }
      ]
    },
    {
      "cell_type": "code",
      "source": [
        "classification_results(y_true=y_test, y_pred=svc.predict(df_test), phase='Test')"
      ],
      "metadata": {
        "colab": {
          "base_uri": "https://localhost:8080/"
        },
        "id": "HlbG_1qeRFAl",
        "outputId": "31ec33c2-033c-491a-9f8e-c2c7306b8271"
      },
      "execution_count": 180,
      "outputs": [
        {
          "output_type": "stream",
          "name": "stdout",
          "text": [
            " Classification Report Test:\n",
            "              precision    recall  f1-score   support\n",
            "\n",
            "           0       0.63      0.62      0.63        85\n",
            "           1       0.53      0.77      0.63       127\n",
            "           2       0.92      0.80      0.86       146\n",
            "           3       0.66      0.50      0.57       101\n",
            "           4       0.52      0.32      0.40        34\n",
            "\n",
            "    accuracy                           0.67       493\n",
            "   macro avg       0.65      0.61      0.62       493\n",
            "weighted avg       0.69      0.67      0.67       493\n",
            "\n"
          ]
        }
      ]
    },
    {
      "cell_type": "code",
      "source": [
        "from sklearn.model_selection import GridSearchCV, cross_val_score"
      ],
      "metadata": {
        "id": "N4EGgnlWMidG"
      },
      "execution_count": 181,
      "outputs": []
    },
    {
      "cell_type": "code",
      "source": [
        "svm.SVC()"
      ],
      "metadata": {
        "id": "QuCX4-X4UKqN"
      },
      "execution_count": null,
      "outputs": []
    },
    {
      "cell_type": "code",
      "source": [
        "param_grid = {\n",
        "    'kernel': ['rbf', 'poly', 'linear'],\n",
        "    'degree': [1, 2, 3, 4]\n",
        "}\n",
        "svc = svm.SVC(kernel='rbf')\n",
        "grid_search = GridSearchCV(estimator=svc, param_grid=param_grid, cv=5)\n",
        "grid_search.fit(df_train, y_train)\n",
        "\n",
        "print(\"Best parameters found: \", grid_search.best_params_)\n",
        "print(\"Best cross-validation score: {:.2f}\".format(grid_search.best_score_))\n",
        "\n",
        "means = grid_search.cv_results_['mean_test_score']\n",
        "stds = grid_search.cv_results_['std_test_score']\n",
        "params = grid_search.cv_results_['params']\n",
        "for mean, std, params in zip(means, stds, params):\n",
        "    print(\"Mean: {:.2f}, Std: {:.2f} with: {}\".format(mean, std, params))"
      ],
      "metadata": {
        "colab": {
          "base_uri": "https://localhost:8080/"
        },
        "id": "aGrmRmnSMgL3",
        "outputId": "b3230d27-fff3-4b19-8b9f-3da6b5b349a1"
      },
      "execution_count": 184,
      "outputs": [
        {
          "output_type": "stream",
          "name": "stdout",
          "text": [
            "Best parameters found:  {'degree': 1, 'kernel': 'rbf'}\n",
            "Best cross-validation score: 0.64\n",
            "Mean: 0.64, Std: 0.02 with: {'degree': 1, 'kernel': 'rbf'}\n",
            "Mean: 0.62, Std: 0.02 with: {'degree': 1, 'kernel': 'poly'}\n",
            "Mean: 0.62, Std: 0.01 with: {'degree': 1, 'kernel': 'linear'}\n",
            "Mean: 0.64, Std: 0.02 with: {'degree': 2, 'kernel': 'rbf'}\n",
            "Mean: 0.63, Std: 0.01 with: {'degree': 2, 'kernel': 'poly'}\n",
            "Mean: 0.62, Std: 0.01 with: {'degree': 2, 'kernel': 'linear'}\n",
            "Mean: 0.64, Std: 0.02 with: {'degree': 3, 'kernel': 'rbf'}\n",
            "Mean: 0.63, Std: 0.01 with: {'degree': 3, 'kernel': 'poly'}\n",
            "Mean: 0.62, Std: 0.01 with: {'degree': 3, 'kernel': 'linear'}\n",
            "Mean: 0.64, Std: 0.02 with: {'degree': 4, 'kernel': 'rbf'}\n",
            "Mean: 0.63, Std: 0.01 with: {'degree': 4, 'kernel': 'poly'}\n",
            "Mean: 0.62, Std: 0.01 with: {'degree': 4, 'kernel': 'linear'}\n"
          ]
        }
      ]
    },
    {
      "cell_type": "markdown",
      "source": [
        "the result of CV shows that the accuracy of our model is significant! sinse the 0.64 +- 0.02 is close to the test result."
      ],
      "metadata": {
        "id": "mRx6RxVzWVqt"
      }
    },
    {
      "cell_type": "markdown",
      "source": [
        "# KNN"
      ],
      "metadata": {
        "id": "c8US0gztREe4"
      }
    },
    {
      "cell_type": "code",
      "source": [
        "from sklearn.neighbors import KNeighborsClassifier\n",
        "neigh = KNeighborsClassifier(n_neighbors=10)"
      ],
      "metadata": {
        "id": "YBhs5HLdRFnn"
      },
      "execution_count": 66,
      "outputs": []
    },
    {
      "cell_type": "code",
      "source": [
        "neigh.fit(df_train, y_train)"
      ],
      "metadata": {
        "colab": {
          "base_uri": "https://localhost:8080/",
          "height": 74
        },
        "id": "T5sht7FBRGTX",
        "outputId": "978e7fa5-8ca2-4bee-b8fe-9d7bb8dc6f69"
      },
      "execution_count": 67,
      "outputs": [
        {
          "output_type": "execute_result",
          "data": {
            "text/plain": [
              "KNeighborsClassifier(n_neighbors=10)"
            ],
            "text/html": [
              "<style>#sk-container-id-2 {color: black;background-color: white;}#sk-container-id-2 pre{padding: 0;}#sk-container-id-2 div.sk-toggleable {background-color: white;}#sk-container-id-2 label.sk-toggleable__label {cursor: pointer;display: block;width: 100%;margin-bottom: 0;padding: 0.3em;box-sizing: border-box;text-align: center;}#sk-container-id-2 label.sk-toggleable__label-arrow:before {content: \"▸\";float: left;margin-right: 0.25em;color: #696969;}#sk-container-id-2 label.sk-toggleable__label-arrow:hover:before {color: black;}#sk-container-id-2 div.sk-estimator:hover label.sk-toggleable__label-arrow:before {color: black;}#sk-container-id-2 div.sk-toggleable__content {max-height: 0;max-width: 0;overflow: hidden;text-align: left;background-color: #f0f8ff;}#sk-container-id-2 div.sk-toggleable__content pre {margin: 0.2em;color: black;border-radius: 0.25em;background-color: #f0f8ff;}#sk-container-id-2 input.sk-toggleable__control:checked~div.sk-toggleable__content {max-height: 200px;max-width: 100%;overflow: auto;}#sk-container-id-2 input.sk-toggleable__control:checked~label.sk-toggleable__label-arrow:before {content: \"▾\";}#sk-container-id-2 div.sk-estimator input.sk-toggleable__control:checked~label.sk-toggleable__label {background-color: #d4ebff;}#sk-container-id-2 div.sk-label input.sk-toggleable__control:checked~label.sk-toggleable__label {background-color: #d4ebff;}#sk-container-id-2 input.sk-hidden--visually {border: 0;clip: rect(1px 1px 1px 1px);clip: rect(1px, 1px, 1px, 1px);height: 1px;margin: -1px;overflow: hidden;padding: 0;position: absolute;width: 1px;}#sk-container-id-2 div.sk-estimator {font-family: monospace;background-color: #f0f8ff;border: 1px dotted black;border-radius: 0.25em;box-sizing: border-box;margin-bottom: 0.5em;}#sk-container-id-2 div.sk-estimator:hover {background-color: #d4ebff;}#sk-container-id-2 div.sk-parallel-item::after {content: \"\";width: 100%;border-bottom: 1px solid gray;flex-grow: 1;}#sk-container-id-2 div.sk-label:hover label.sk-toggleable__label {background-color: #d4ebff;}#sk-container-id-2 div.sk-serial::before {content: \"\";position: absolute;border-left: 1px solid gray;box-sizing: border-box;top: 0;bottom: 0;left: 50%;z-index: 0;}#sk-container-id-2 div.sk-serial {display: flex;flex-direction: column;align-items: center;background-color: white;padding-right: 0.2em;padding-left: 0.2em;position: relative;}#sk-container-id-2 div.sk-item {position: relative;z-index: 1;}#sk-container-id-2 div.sk-parallel {display: flex;align-items: stretch;justify-content: center;background-color: white;position: relative;}#sk-container-id-2 div.sk-item::before, #sk-container-id-2 div.sk-parallel-item::before {content: \"\";position: absolute;border-left: 1px solid gray;box-sizing: border-box;top: 0;bottom: 0;left: 50%;z-index: -1;}#sk-container-id-2 div.sk-parallel-item {display: flex;flex-direction: column;z-index: 1;position: relative;background-color: white;}#sk-container-id-2 div.sk-parallel-item:first-child::after {align-self: flex-end;width: 50%;}#sk-container-id-2 div.sk-parallel-item:last-child::after {align-self: flex-start;width: 50%;}#sk-container-id-2 div.sk-parallel-item:only-child::after {width: 0;}#sk-container-id-2 div.sk-dashed-wrapped {border: 1px dashed gray;margin: 0 0.4em 0.5em 0.4em;box-sizing: border-box;padding-bottom: 0.4em;background-color: white;}#sk-container-id-2 div.sk-label label {font-family: monospace;font-weight: bold;display: inline-block;line-height: 1.2em;}#sk-container-id-2 div.sk-label-container {text-align: center;}#sk-container-id-2 div.sk-container {/* jupyter's `normalize.less` sets `[hidden] { display: none; }` but bootstrap.min.css set `[hidden] { display: none !important; }` so we also need the `!important` here to be able to override the default hidden behavior on the sphinx rendered scikit-learn.org. See: https://github.com/scikit-learn/scikit-learn/issues/21755 */display: inline-block !important;position: relative;}#sk-container-id-2 div.sk-text-repr-fallback {display: none;}</style><div id=\"sk-container-id-2\" class=\"sk-top-container\"><div class=\"sk-text-repr-fallback\"><pre>KNeighborsClassifier(n_neighbors=10)</pre><b>In a Jupyter environment, please rerun this cell to show the HTML representation or trust the notebook. <br />On GitHub, the HTML representation is unable to render, please try loading this page with nbviewer.org.</b></div><div class=\"sk-container\" hidden><div class=\"sk-item\"><div class=\"sk-estimator sk-toggleable\"><input class=\"sk-toggleable__control sk-hidden--visually\" id=\"sk-estimator-id-2\" type=\"checkbox\" checked><label for=\"sk-estimator-id-2\" class=\"sk-toggleable__label sk-toggleable__label-arrow\">KNeighborsClassifier</label><div class=\"sk-toggleable__content\"><pre>KNeighborsClassifier(n_neighbors=10)</pre></div></div></div></div></div>"
            ]
          },
          "metadata": {},
          "execution_count": 67
        }
      ]
    },
    {
      "cell_type": "code",
      "source": [
        "y_pred = neigh.predict(df_test)\n",
        "print(accuracy_score(y_test, y_pred))"
      ],
      "metadata": {
        "colab": {
          "base_uri": "https://localhost:8080/"
        },
        "id": "_2oozEJpRPFd",
        "outputId": "ea07b034-5254-4e97-9766-9acb0527b325"
      },
      "execution_count": 68,
      "outputs": [
        {
          "output_type": "stream",
          "name": "stderr",
          "text": [
            "Exception ignored on calling ctypes callback function: <function ThreadpoolController._find_libraries_with_dl_iterate_phdr.<locals>.match_library_callback at 0x7f908b8f8ee0>\n",
            "Traceback (most recent call last):\n",
            "  File \"/usr/local/lib/python3.10/dist-packages/threadpoolctl.py\", line 1005, in match_library_callback\n",
            "    self._make_controller_from_path(filepath)\n",
            "  File \"/usr/local/lib/python3.10/dist-packages/threadpoolctl.py\", line 1175, in _make_controller_from_path\n",
            "    lib_controller = controller_class(\n",
            "  File \"/usr/local/lib/python3.10/dist-packages/threadpoolctl.py\", line 114, in __init__\n",
            "    self.dynlib = ctypes.CDLL(filepath, mode=_RTLD_NOLOAD)\n",
            "  File \"/usr/lib/python3.10/ctypes/__init__.py\", line 374, in __init__\n",
            "    self._handle = _dlopen(self._name, mode)\n",
            "OSError: /usr/local/lib/python3.10/dist-packages/numpy.libs/libopenblas64_p-r0-5007b62f.3.23.dev.so: cannot open shared object file: No such file or directory\n"
          ]
        },
        {
          "output_type": "stream",
          "name": "stdout",
          "text": [
            "0.5963488843813387\n"
          ]
        }
      ]
    },
    {
      "cell_type": "markdown",
      "source": [
        "## Analyze the result\n",
        "\n",
        "- the model didnt perform well on the dataset, its just simply overfitted. in next step, we are going to apply some regularization techniques like `Tree pruning` and hyperparameter tuning on the model to achive better result.\n",
        "\n",
        "**other expriences**:\n",
        "- I also tried to train a model with only TF-IDF features and only word2vec features individually, but in these cases, the result for each part was less than the combination of both features, so let us continue with combination of both tf-idf and w2v feature in our future experiences.\n",
        "\n",
        "- Due to the classification result report(percision recall and f1-score of each classes), the best performance of the model was on `HAPPY` label, which means the data is well represented to model to recognize happy emotions, it could dbe becuase of the frequency of happy words in the texts are more logical to term of tf-idf features.\n",
        "so the data is challenging for classical machine learning algorithms. I may need to use Transformers at last(after we tested other classical models and simple MLP)\n",
        "\n",
        "- I also tested the `skip-grams` for word tokenizing to see if its works better with data, it improves the result but it still not satisfying!\n",
        "\n",
        "- At last, i gave up using TF-IDF features since it doesnt effect on the result, so i focus on train and tune a good word2vec model and it worked!\n",
        "\n",
        "- and also i change normal train-test-split to stratified vesion, which does not effected the result, but since the data was imbalance, i think its more significant!\n",
        "\n",
        "- Also the balancing texhnique SMOTE didint improve overall accuracy, but it improves the result in minority class.\n",
        "\n",
        "- I also tried a different variation of word2vec, instead of simple average on word2vec result for each word, i add a weighted average by its TF-IDF. it didnt improved the result.\n",
        "\n",
        "since now, the best result is for:\n",
        "\n",
        "polynomial SVM with degree = 4 ==> accuracy = 60%\n",
        "\n",
        "for the last card, i try pre-trained word2vec model `fasttext` from hazm. and the result was as follows:\n",
        "- SVM with rbf kernel --> **67%**, and catboost --> accuracy = **65%**\n"
      ],
      "metadata": {
        "id": "ebT2-gBTMSPP"
      }
    },
    {
      "cell_type": "markdown",
      "source": [
        "i did train our word2vec model on 100 epochs with new wet of parameters and it leads to a significant improve in general result in our models, so the main important features for the model is word2vec, than TF-IDF which is makes sense.\n",
        "\n",
        "also i removed some of unnecessary steps in the preprocessing step, which leads to better embeddings.\n",
        "\n",
        "the main challenge in this task is Data, the twits are in this dataset are in very bad format, there are lots of words and phrases which doesnt make sense in persian language but used in the text and also there is lots of sentences which contains english but with persian alphabet like ('ارلی برد کچز د ورم') which doesnt make sense!!\n",
        "\n",
        "so i remove the words with the frequencies less than 4 to avoid these sentences and words."
      ],
      "metadata": {
        "id": "NCqrwzgmz_TS"
      }
    },
    {
      "cell_type": "markdown",
      "metadata": {
        "id": "K0f1FSO4r7kP"
      },
      "source": [
        "# 4- balancing"
      ]
    },
    {
      "cell_type": "code",
      "execution_count": 120,
      "metadata": {
        "id": "RfBSHl3cr7kP"
      },
      "outputs": [],
      "source": [
        "smote = SMOTE(random_state = 42, k_neighbors=10)\n",
        "\n",
        "# Apply SMOTE to balance the data\n",
        "# X_resampled, y_resampled = smote.fit_resample(df_train, y_train)\n",
        "X_resampled, y_resampled = smote.fit_resample(df_train, y_train)"
      ]
    },
    {
      "cell_type": "code",
      "source": [
        "plt.bar(x = y_resampled.unique(), height = y_resampled.value_counts())"
      ],
      "metadata": {
        "colab": {
          "base_uri": "https://localhost:8080/",
          "height": 447
        },
        "id": "WxvgutC_Yhu1",
        "outputId": "2e049e81-d279-401d-9360-a1efee31a95e"
      },
      "execution_count": 121,
      "outputs": [
        {
          "output_type": "execute_result",
          "data": {
            "text/plain": [
              "<BarContainer object of 5 artists>"
            ]
          },
          "metadata": {},
          "execution_count": 121
        },
        {
          "output_type": "display_data",
          "data": {
            "text/plain": [
              "<Figure size 640x480 with 1 Axes>"
            ],
            "image/png": "[encoded data removed]"
          },
          "metadata": {}
        }
      ]
    },
    {
      "cell_type": "code",
      "execution_count": 159,
      "metadata": {
        "colab": {
          "base_uri": "https://localhost:8080/",
          "height": 74
        },
        "id": "4WOFrFtdr7kP",
        "outputId": "695bfc54-2882-46a2-b22c-71b1c1388f12"
      },
      "outputs": [
        {
          "output_type": "execute_result",
          "data": {
            "text/plain": [
              "SVC()"
            ],
            "text/html": [
              "<style>#sk-container-id-14 {color: black;background-color: white;}#sk-container-id-14 pre{padding: 0;}#sk-container-id-14 div.sk-toggleable {background-color: white;}#sk-container-id-14 label.sk-toggleable__label {cursor: pointer;display: block;width: 100%;margin-bottom: 0;padding: 0.3em;box-sizing: border-box;text-align: center;}#sk-container-id-14 label.sk-toggleable__label-arrow:before {content: \"▸\";float: left;margin-right: 0.25em;color: #696969;}#sk-container-id-14 label.sk-toggleable__label-arrow:hover:before {color: black;}#sk-container-id-14 div.sk-estimator:hover label.sk-toggleable__label-arrow:before {color: black;}#sk-container-id-14 div.sk-toggleable__content {max-height: 0;max-width: 0;overflow: hidden;text-align: left;background-color: #f0f8ff;}#sk-container-id-14 div.sk-toggleable__content pre {margin: 0.2em;color: black;border-radius: 0.25em;background-color: #f0f8ff;}#sk-container-id-14 input.sk-toggleable__control:checked~div.sk-toggleable__content {max-height: 200px;max-width: 100%;overflow: auto;}#sk-container-id-14 input.sk-toggleable__control:checked~label.sk-toggleable__label-arrow:before {content: \"▾\";}#sk-container-id-14 div.sk-estimator input.sk-toggleable__control:checked~label.sk-toggleable__label {background-color: #d4ebff;}#sk-container-id-14 div.sk-label input.sk-toggleable__control:checked~label.sk-toggleable__label {background-color: #d4ebff;}#sk-container-id-14 input.sk-hidden--visually {border: 0;clip: rect(1px 1px 1px 1px);clip: rect(1px, 1px, 1px, 1px);height: 1px;margin: -1px;overflow: hidden;padding: 0;position: absolute;width: 1px;}#sk-container-id-14 div.sk-estimator {font-family: monospace;background-color: #f0f8ff;border: 1px dotted black;border-radius: 0.25em;box-sizing: border-box;margin-bottom: 0.5em;}#sk-container-id-14 div.sk-estimator:hover {background-color: #d4ebff;}#sk-container-id-14 div.sk-parallel-item::after {content: \"\";width: 100%;border-bottom: 1px solid gray;flex-grow: 1;}#sk-container-id-14 div.sk-label:hover label.sk-toggleable__label {background-color: #d4ebff;}#sk-container-id-14 div.sk-serial::before {content: \"\";position: absolute;border-left: 1px solid gray;box-sizing: border-box;top: 0;bottom: 0;left: 50%;z-index: 0;}#sk-container-id-14 div.sk-serial {display: flex;flex-direction: column;align-items: center;background-color: white;padding-right: 0.2em;padding-left: 0.2em;position: relative;}#sk-container-id-14 div.sk-item {position: relative;z-index: 1;}#sk-container-id-14 div.sk-parallel {display: flex;align-items: stretch;justify-content: center;background-color: white;position: relative;}#sk-container-id-14 div.sk-item::before, #sk-container-id-14 div.sk-parallel-item::before {content: \"\";position: absolute;border-left: 1px solid gray;box-sizing: border-box;top: 0;bottom: 0;left: 50%;z-index: -1;}#sk-container-id-14 div.sk-parallel-item {display: flex;flex-direction: column;z-index: 1;position: relative;background-color: white;}#sk-container-id-14 div.sk-parallel-item:first-child::after {align-self: flex-end;width: 50%;}#sk-container-id-14 div.sk-parallel-item:last-child::after {align-self: flex-start;width: 50%;}#sk-container-id-14 div.sk-parallel-item:only-child::after {width: 0;}#sk-container-id-14 div.sk-dashed-wrapped {border: 1px dashed gray;margin: 0 0.4em 0.5em 0.4em;box-sizing: border-box;padding-bottom: 0.4em;background-color: white;}#sk-container-id-14 div.sk-label label {font-family: monospace;font-weight: bold;display: inline-block;line-height: 1.2em;}#sk-container-id-14 div.sk-label-container {text-align: center;}#sk-container-id-14 div.sk-container {/* jupyter's `normalize.less` sets `[hidden] { display: none; }` but bootstrap.min.css set `[hidden] { display: none !important; }` so we also need the `!important` here to be able to override the default hidden behavior on the sphinx rendered scikit-learn.org. See: https://github.com/scikit-learn/scikit-learn/issues/21755 */display: inline-block !important;position: relative;}#sk-container-id-14 div.sk-text-repr-fallback {display: none;}</style><div id=\"sk-container-id-14\" class=\"sk-top-container\"><div class=\"sk-text-repr-fallback\"><pre>SVC()</pre><b>In a Jupyter environment, please rerun this cell to show the HTML representation or trust the notebook. <br />On GitHub, the HTML representation is unable to render, please try loading this page with nbviewer.org.</b></div><div class=\"sk-container\" hidden><div class=\"sk-item\"><div class=\"sk-estimator sk-toggleable\"><input class=\"sk-toggleable__control sk-hidden--visually\" id=\"sk-estimator-id-14\" type=\"checkbox\" checked><label for=\"sk-estimator-id-14\" class=\"sk-toggleable__label sk-toggleable__label-arrow\">SVC</label><div class=\"sk-toggleable__content\"><pre>SVC()</pre></div></div></div></div></div>"
            ]
          },
          "metadata": {},
          "execution_count": 159
        }
      ],
      "source": [
        "# train a regularized random forrest!\n",
        "# rf = RandomForestClassifier(n_estimators= 200, random_state=42, min_samples_leaf=12, min_samples_split=7)پ\n",
        "clf = svm.SVC(kernel = 'rbf')\n",
        "clf.fit(X_resampled, y_resampled)"
      ]
    },
    {
      "cell_type": "code",
      "execution_count": 164,
      "metadata": {
        "id": "Gd1xzgmvr7kP"
      },
      "outputs": [],
      "source": [
        "y_pred = clf.predict(df_test)"
      ]
    },
    {
      "cell_type": "code",
      "execution_count": 162,
      "metadata": {
        "colab": {
          "base_uri": "https://localhost:8080/"
        },
        "id": "jC4oOwHUr7kP",
        "outputId": "8b6dc884-9338-41cf-d397-d3291b40cc78"
      },
      "outputs": [
        {
          "output_type": "stream",
          "name": "stdout",
          "text": [
            " Classification Report Train:\n",
            "              precision    recall  f1-score   support\n",
            "\n",
            "           0       0.78      0.85      0.81      1316\n",
            "           1       0.72      0.72      0.72      1316\n",
            "           2       0.94      0.78      0.85      1316\n",
            "           3       0.79      0.78      0.78      1316\n",
            "           4       0.86      0.94      0.90      1316\n",
            "\n",
            "    accuracy                           0.81      6580\n",
            "   macro avg       0.82      0.81      0.81      6580\n",
            "weighted avg       0.82      0.81      0.81      6580\n",
            "\n"
          ]
        }
      ],
      "source": [
        "classification_results(y_true=y_resampled, y_pred=clf.predict(X_resampled), phase='Train')"
      ]
    },
    {
      "cell_type": "code",
      "execution_count": 165,
      "metadata": {
        "colab": {
          "base_uri": "https://localhost:8080/"
        },
        "id": "NaAP5jamr7kP",
        "outputId": "209e0db7-a5a9-47f0-957c-6a5f6bd8f410"
      },
      "outputs": [
        {
          "output_type": "stream",
          "name": "stdout",
          "text": [
            " Classification Report Test:\n",
            "              precision    recall  f1-score   support\n",
            "\n",
            "           0       0.62      0.65      0.64        85\n",
            "           1       0.59      0.65      0.62       127\n",
            "           2       0.93      0.80      0.86       146\n",
            "           3       0.61      0.53      0.57       101\n",
            "           4       0.37      0.53      0.43        34\n",
            "\n",
            "    accuracy                           0.66       493\n",
            "   macro avg       0.62      0.63      0.62       493\n",
            "weighted avg       0.68      0.66      0.67       493\n",
            "\n"
          ]
        }
      ],
      "source": [
        "classification_results(y_true=y_test, y_pred=y_pred, phase='Test')"
      ]
    },
    {
      "cell_type": "markdown",
      "source": [
        "we tested the SMOTE balancing technique to balance the classes, then we pruned the tree by setting hyper parameters of the RF classifier, but the result is not satisfying yet! we may explore more models to see if we can see better results.\n",
        "\n",
        "the balanced SVM is more better than the Randomforrest."
      ],
      "metadata": {
        "id": "M226Zq51Mmxu"
      }
    },
    {
      "cell_type": "markdown",
      "source": [
        "# CatBoost model"
      ],
      "metadata": {
        "id": "1cY69zNfNEZv"
      }
    },
    {
      "cell_type": "code",
      "source": [
        "model = CatBoostClassifier(\n",
        "    iterations=300,\n",
        "    learning_rate=0.1,\n",
        "    loss_function='MultiClass',\n",
        "    verbose=100\n",
        ")\n",
        "\n",
        "# Step 5: Train the model\n",
        "model.fit(df_train, y_train)"
      ],
      "metadata": {
        "id": "HOhNCb5jNWX4",
        "colab": {
          "base_uri": "https://localhost:8080/"
        },
        "outputId": "bceefac0-1e00-4c85-8468-4d6d842051ec"
      },
      "execution_count": 86,
      "outputs": [
        {
          "output_type": "stream",
          "name": "stdout",
          "text": [
            "0:\tlearn: 1.5536691\ttotal: 1.09s\tremaining: 5m 25s\n",
            "100:\tlearn: 0.7448913\ttotal: 59s\tremaining: 1m 56s\n",
            "200:\tlearn: 0.5227414\ttotal: 2m\tremaining: 59.5s\n",
            "299:\tlearn: 0.3936458\ttotal: 2m 55s\tremaining: 0us\n"
          ]
        },
        {
          "output_type": "execute_result",
          "data": {
            "text/plain": [
              "<catboost.core.CatBoostClassifier at 0x7f909aac9c60>"
            ]
          },
          "metadata": {},
          "execution_count": 86
        }
      ]
    },
    {
      "cell_type": "code",
      "source": [
        "# Step 6: Make predictions\n",
        "y_pred = model.predict(df_test)"
      ],
      "metadata": {
        "id": "KzzBAXmoTfOm"
      },
      "execution_count": 88,
      "outputs": []
    },
    {
      "cell_type": "code",
      "execution_count": 89,
      "metadata": {
        "id": "9V8er73yNyEK",
        "colab": {
          "base_uri": "https://localhost:8080/"
        },
        "outputId": "7668be17-a27b-40cd-8b55-7e50a542fce0"
      },
      "outputs": [
        {
          "output_type": "stream",
          "name": "stdout",
          "text": [
            " Classification Report Train:\n",
            "              precision    recall  f1-score   support\n",
            "\n",
            "       ANGRY       0.95      0.96      0.96       911\n",
            "        FEAR       0.99      0.92      0.95       308\n",
            "       HAPPY       0.98      0.96      0.97      1316\n",
            "       OTHER       0.95      0.97      0.96      1136\n",
            "         SAD       0.94      0.95      0.95       760\n",
            "\n",
            "    accuracy                           0.96      4431\n",
            "   macro avg       0.96      0.95      0.96      4431\n",
            "weighted avg       0.96      0.96      0.96      4431\n",
            "\n"
          ]
        }
      ],
      "source": [
        "classification_results(y_true=y_train, y_pred=model.predict(df_train), phase='Train')"
      ]
    },
    {
      "cell_type": "code",
      "execution_count": 90,
      "metadata": {
        "id": "cPYjSp4nNyEK",
        "colab": {
          "base_uri": "https://localhost:8080/"
        },
        "outputId": "2ec92ee1-e57b-410a-a82a-c4b1c0d5d80d"
      },
      "outputs": [
        {
          "output_type": "stream",
          "name": "stdout",
          "text": [
            " Classification Report Test:\n",
            "              precision    recall  f1-score   support\n",
            "\n",
            "       ANGRY       0.63      0.54      0.59       101\n",
            "        FEAR       0.44      0.35      0.39        34\n",
            "       HAPPY       0.81      0.79      0.80       146\n",
            "       OTHER       0.54      0.65      0.59       127\n",
            "         SAD       0.56      0.54      0.55        85\n",
            "\n",
            "    accuracy                           0.63       493\n",
            "   macro avg       0.60      0.58      0.58       493\n",
            "weighted avg       0.64      0.63      0.63       493\n",
            "\n"
          ]
        }
      ],
      "source": [
        "classification_results(y_true=y_test, y_pred=y_pred, phase='Test')"
      ]
    },
    {
      "cell_type": "markdown",
      "source": [
        "Even catboost could not reach the 70%, iam about to get crazy!!"
      ],
      "metadata": {
        "id": "Nz3nk2A0PMgu"
      }
    },
    {
      "cell_type": "markdown",
      "source": [
        "# XG boost"
      ],
      "metadata": {
        "id": "ZrT1tH15D6vB"
      }
    },
    {
      "cell_type": "code",
      "source": [
        "train_data = xgb.DMatrix(data=df_train, label=y_train)\n",
        "test_data = xgb.DMatrix(data=df_test, label=y_test)"
      ],
      "metadata": {
        "id": "fCZK3OBrE4TF"
      },
      "execution_count": 99,
      "outputs": []
    },
    {
      "cell_type": "code",
      "source": [
        "# Define parameters\n",
        "params = {\n",
        "    'objective': 'multi:softmax',  # Multi-class classification\n",
        "    'num_class': 5,  # Number of classes in the dataset\n",
        "    'learning_rate': 0.1,\n",
        "}\n",
        "\n",
        "# Train the model\n",
        "model = xgb.train(params=params, dtrain=train_data, num_boost_round=50)"
      ],
      "metadata": {
        "id": "6mjLU5mlDa83"
      },
      "execution_count": 112,
      "outputs": []
    },
    {
      "cell_type": "code",
      "source": [
        "# Predict on test set\n",
        "y_pred = model.predict(test_data)"
      ],
      "metadata": {
        "id": "27eprA4fD1N5"
      },
      "execution_count": 113,
      "outputs": []
    },
    {
      "cell_type": "code",
      "execution_count": 114,
      "metadata": {
        "id": "yRgcd3qyFCyC",
        "colab": {
          "base_uri": "https://localhost:8080/"
        },
        "outputId": "593d4b69-bef3-4324-e621-b469c071a58d"
      },
      "outputs": [
        {
          "output_type": "stream",
          "name": "stdout",
          "text": [
            " Classification Report Train:\n",
            "              precision    recall  f1-score   support\n",
            "\n",
            "           0       0.97      0.99      0.98       760\n",
            "           1       0.98      0.99      0.99      1136\n",
            "           2       1.00      0.98      0.99      1316\n",
            "           3       0.98      0.99      0.99       911\n",
            "           4       0.99      0.98      0.99       308\n",
            "\n",
            "    accuracy                           0.99      4431\n",
            "   macro avg       0.99      0.99      0.99      4431\n",
            "weighted avg       0.99      0.99      0.99      4431\n",
            "\n"
          ]
        }
      ],
      "source": [
        "classification_results(y_true=y_train, y_pred=model.predict(train_data), phase='Train')"
      ]
    },
    {
      "cell_type": "code",
      "execution_count": 115,
      "metadata": {
        "id": "MRpWknuKFCyD",
        "colab": {
          "base_uri": "https://localhost:8080/"
        },
        "outputId": "023a8afc-6a4c-4915-b39c-14f5ccbe7ae4"
      },
      "outputs": [
        {
          "output_type": "stream",
          "name": "stdout",
          "text": [
            " Classification Report Test:\n",
            "              precision    recall  f1-score   support\n",
            "\n",
            "           0       0.54      0.48      0.51        85\n",
            "           1       0.48      0.65      0.55       127\n",
            "           2       0.80      0.79      0.79       146\n",
            "           3       0.54      0.47      0.50       101\n",
            "           4       0.38      0.18      0.24        34\n",
            "\n",
            "    accuracy                           0.59       493\n",
            "   macro avg       0.55      0.51      0.52       493\n",
            "weighted avg       0.59      0.59      0.58       493\n",
            "\n"
          ]
        }
      ],
      "source": [
        "classification_results(y_true=y_test, y_pred=y_pred, phase='Test')"
      ]
    },
    {
      "cell_type": "markdown",
      "source": [
        "# Stacking classifiers"
      ],
      "metadata": {
        "id": "UGUbsS49Y1xa"
      }
    },
    {
      "cell_type": "code",
      "source": [
        "# Initialize the base classifiers\n",
        "clf1 = DecisionTreeClassifier(random_state=42)\n",
        "clf2 = RandomForestClassifier(random_state=42)\n",
        "clf3 = GradientBoostingClassifier(random_state=42)\n",
        "\n",
        "# Initialize the StackingClassifier with the base classifiers\n",
        "stacking_clf = StackingClassifier(\n",
        "    estimators=[\n",
        "        ('dt', clf1),\n",
        "        ('rf', clf2),\n",
        "        ('gb', clf3)\n",
        "    ],\n",
        "    final_estimator=LogisticRegression(),\n",
        "    cv=5\n",
        ")\n",
        "\n",
        "stacking_clf.fit(x_train_w2v, y_train)\n",
        "\n",
        "y_pred = stacking_clf.predict(x_test_w2v)\n",
        "\n",
        "accuracy = accuracy_score(y_test, y_pred)\n",
        "print(f'Accuracy of the Stacking Classifier: {accuracy:.2f}')"
      ],
      "metadata": {
        "colab": {
          "base_uri": "https://localhost:8080/"
        },
        "id": "2B47_jeNXstc",
        "outputId": "bcbf4477-c496-4bf0-bc57-2d5682ba3838"
      },
      "execution_count": null,
      "outputs": [
        {
          "output_type": "stream",
          "name": "stdout",
          "text": [
            "Accuracy of the Stacking Classifier: 0.56\n"
          ]
        },
        {
          "output_type": "stream",
          "name": "stderr",
          "text": [
            "/usr/local/lib/python3.10/dist-packages/sklearn/linear_model/_logistic.py:458: ConvergenceWarning: lbfgs failed to converge (status=1):\n",
            "STOP: TOTAL NO. of ITERATIONS REACHED LIMIT.\n",
            "\n",
            "Increase the number of iterations (max_iter) or scale the data as shown in:\n",
            "    https://scikit-learn.org/stable/modules/preprocessing.html\n",
            "Please also refer to the documentation for alternative solver options:\n",
            "    https://scikit-learn.org/stable/modules/linear_model.html#logistic-regression\n",
            "  n_iter_i = _check_optimize_result(\n"
          ]
        }
      ]
    },
    {
      "cell_type": "markdown",
      "source": [
        "# test MLP classifier"
      ],
      "metadata": {
        "id": "5Enq5LwZgfVL"
      }
    },
    {
      "cell_type": "code",
      "source": [
        "# from sklearn.neural_network import MLPClassifier"
      ],
      "metadata": {
        "id": "21wOyMH3X2uW"
      },
      "execution_count": null,
      "outputs": []
    },
    {
      "cell_type": "code",
      "source": [
        "# clf = MLPClassifier(hidden_layer_sizes=(128), solver = 'sgd', verbose = 100, max_iter = 100, learning_rate_init=0.01)"
      ],
      "metadata": {
        "id": "snvdaR3VbGVw"
      },
      "execution_count": null,
      "outputs": []
    },
    {
      "cell_type": "code",
      "source": [
        "# clf.fit(x_train_w2v, y_train)"
      ],
      "metadata": {
        "id": "3r3XiGKVbWJh"
      },
      "execution_count": null,
      "outputs": []
    },
    {
      "cell_type": "code",
      "source": [
        "# y_pred = clf.predict(x_test_w2v)\n",
        "# accuracy = accuracy_score(y_test, y_pred)\n",
        "# print(f'Accuracy of the Stacking Classifier: {accuracy:.2f}')"
      ],
      "metadata": {
        "colab": {
          "base_uri": "https://localhost:8080/"
        },
        "id": "LPvZVZ3Gba6T",
        "outputId": "8c6da510-0235-43e2-8ef8-d1416aa84a06"
      },
      "execution_count": null,
      "outputs": [
        {
          "output_type": "stream",
          "name": "stdout",
          "text": [
            "Accuracy of the Stacking Classifier: 0.54\n"
          ]
        }
      ]
    },
    {
      "cell_type": "markdown",
      "source": [
        "## Saving fasttext model to drive"
      ],
      "metadata": {
        "id": "bd_wKvG5XZ-n"
      }
    },
    {
      "cell_type": "code",
      "source": [
        "# from google.colab import drive\n",
        "# drive.mount('/content/drive')"
      ],
      "metadata": {
        "colab": {
          "base_uri": "https://localhost:8080/"
        },
        "id": "mlOaaiDuGeZm",
        "outputId": "e314c951-face-40d9-c509-ab4d0a7ca612"
      },
      "execution_count": 87,
      "outputs": [
        {
          "output_type": "stream",
          "name": "stdout",
          "text": [
            "Mounted at /content/drive\n"
          ]
        }
      ]
    },
    {
      "cell_type": "code",
      "source": [
        "# # Example file paths in Colab\n",
        "# colab_file_path = '/content/fasttext_model.zip'\n",
        "\n",
        "# # Destination path in Google Drive\n",
        "# drive_destination_path = '/content/drive/My Drive/fasttext_model.zip'"
      ],
      "metadata": {
        "id": "JFGRnsqwGflj"
      },
      "execution_count": 94,
      "outputs": []
    },
    {
      "cell_type": "code",
      "source": [
        "# import shutil\n",
        "\n",
        "# # Copy file from Colab to Google Drive\n",
        "# shutil.copyfile(colab_file_path, drive_destination_path)\n",
        "\n",
        "# print(f\"File copied to Google Drive: {drive_destination_path}\")"
      ],
      "metadata": {
        "colab": {
          "base_uri": "https://localhost:8080/"
        },
        "id": "7wsLHGiHHPt8",
        "outputId": "8703dfe2-31ff-4ac7-e3f6-fdf312c63e54"
      },
      "execution_count": 95,
      "outputs": [
        {
          "output_type": "stream",
          "name": "stdout",
          "text": [
            "File copied to Google Drive: /content/drive/My Drive/fasttext_model.zip\n"
          ]
        }
      ]
    },
    {
      "cell_type": "markdown",
      "source": [
        "# unlabled data"
      ],
      "metadata": {
        "id": "hA7EFthkXkS8"
      }
    },
    {
      "cell_type": "code",
      "source": [
        "data = pd.read_csv('/content/3rdHW_test.csv', header=None)"
      ],
      "metadata": {
        "id": "O_5tmCH8Xlnd"
      },
      "execution_count": 207,
      "outputs": []
    },
    {
      "cell_type": "code",
      "source": [
        "test_data = data[0]"
      ],
      "metadata": {
        "id": "1ineXsSUX48B"
      },
      "execution_count": 208,
      "outputs": []
    },
    {
      "cell_type": "code",
      "source": [
        "test_data = test_data.apply(preprocess_text_1)\n",
        "\n",
        "test_data = test_data.apply(remove_non_persian)\n",
        "\n",
        "test_data = preprocess_series(test_data)\n",
        "print('Preprocessing for test done.')\n",
        "\n",
        "tokenized_tweets_test = [word_tokenize(tweet) for tweet in test_data]\n",
        "\n",
        "df_test = np.array([get_embedding_vector(tweet) for tweet in tokenized_tweets_test])"
      ],
      "metadata": {
        "colab": {
          "base_uri": "https://localhost:8080/"
        },
        "id": "JYxJZXM0dxSi",
        "outputId": "b45f0a4a-c168-402b-95c7-29c651925f75"
      },
      "execution_count": 209,
      "outputs": [
        {
          "output_type": "stream",
          "name": "stdout",
          "text": [
            "Preprocessing for test done.\n"
          ]
        }
      ]
    },
    {
      "cell_type": "code",
      "source": [
        "svc = svm.SVC(kernel = 'rbf')\n",
        "svc.fit(df_train, y_train)"
      ],
      "metadata": {
        "colab": {
          "base_uri": "https://localhost:8080/",
          "height": 74
        },
        "id": "-ymW60SWesuw",
        "outputId": "1123fc90-e9d8-4017-a0c1-079c80a5fd90"
      },
      "execution_count": 210,
      "outputs": [
        {
          "output_type": "execute_result",
          "data": {
            "text/plain": [
              "SVC()"
            ],
            "text/html": [
              "<style>#sk-container-id-23 {color: black;background-color: white;}#sk-container-id-23 pre{padding: 0;}#sk-container-id-23 div.sk-toggleable {background-color: white;}#sk-container-id-23 label.sk-toggleable__label {cursor: pointer;display: block;width: 100%;margin-bottom: 0;padding: 0.3em;box-sizing: border-box;text-align: center;}#sk-container-id-23 label.sk-toggleable__label-arrow:before {content: \"▸\";float: left;margin-right: 0.25em;color: #696969;}#sk-container-id-23 label.sk-toggleable__label-arrow:hover:before {color: black;}#sk-container-id-23 div.sk-estimator:hover label.sk-toggleable__label-arrow:before {color: black;}#sk-container-id-23 div.sk-toggleable__content {max-height: 0;max-width: 0;overflow: hidden;text-align: left;background-color: #f0f8ff;}#sk-container-id-23 div.sk-toggleable__content pre {margin: 0.2em;color: black;border-radius: 0.25em;background-color: #f0f8ff;}#sk-container-id-23 input.sk-toggleable__control:checked~div.sk-toggleable__content {max-height: 200px;max-width: 100%;overflow: auto;}#sk-container-id-23 input.sk-toggleable__control:checked~label.sk-toggleable__label-arrow:before {content: \"▾\";}#sk-container-id-23 div.sk-estimator input.sk-toggleable__control:checked~label.sk-toggleable__label {background-color: #d4ebff;}#sk-container-id-23 div.sk-label input.sk-toggleable__control:checked~label.sk-toggleable__label {background-color: #d4ebff;}#sk-container-id-23 input.sk-hidden--visually {border: 0;clip: rect(1px 1px 1px 1px);clip: rect(1px, 1px, 1px, 1px);height: 1px;margin: -1px;overflow: hidden;padding: 0;position: absolute;width: 1px;}#sk-container-id-23 div.sk-estimator {font-family: monospace;background-color: #f0f8ff;border: 1px dotted black;border-radius: 0.25em;box-sizing: border-box;margin-bottom: 0.5em;}#sk-container-id-23 div.sk-estimator:hover {background-color: #d4ebff;}#sk-container-id-23 div.sk-parallel-item::after {content: \"\";width: 100%;border-bottom: 1px solid gray;flex-grow: 1;}#sk-container-id-23 div.sk-label:hover label.sk-toggleable__label {background-color: #d4ebff;}#sk-container-id-23 div.sk-serial::before {content: \"\";position: absolute;border-left: 1px solid gray;box-sizing: border-box;top: 0;bottom: 0;left: 50%;z-index: 0;}#sk-container-id-23 div.sk-serial {display: flex;flex-direction: column;align-items: center;background-color: white;padding-right: 0.2em;padding-left: 0.2em;position: relative;}#sk-container-id-23 div.sk-item {position: relative;z-index: 1;}#sk-container-id-23 div.sk-parallel {display: flex;align-items: stretch;justify-content: center;background-color: white;position: relative;}#sk-container-id-23 div.sk-item::before, #sk-container-id-23 div.sk-parallel-item::before {content: \"\";position: absolute;border-left: 1px solid gray;box-sizing: border-box;top: 0;bottom: 0;left: 50%;z-index: -1;}#sk-container-id-23 div.sk-parallel-item {display: flex;flex-direction: column;z-index: 1;position: relative;background-color: white;}#sk-container-id-23 div.sk-parallel-item:first-child::after {align-self: flex-end;width: 50%;}#sk-container-id-23 div.sk-parallel-item:last-child::after {align-self: flex-start;width: 50%;}#sk-container-id-23 div.sk-parallel-item:only-child::after {width: 0;}#sk-container-id-23 div.sk-dashed-wrapped {border: 1px dashed gray;margin: 0 0.4em 0.5em 0.4em;box-sizing: border-box;padding-bottom: 0.4em;background-color: white;}#sk-container-id-23 div.sk-label label {font-family: monospace;font-weight: bold;display: inline-block;line-height: 1.2em;}#sk-container-id-23 div.sk-label-container {text-align: center;}#sk-container-id-23 div.sk-container {/* jupyter's `normalize.less` sets `[hidden] { display: none; }` but bootstrap.min.css set `[hidden] { display: none !important; }` so we also need the `!important` here to be able to override the default hidden behavior on the sphinx rendered scikit-learn.org. See: https://github.com/scikit-learn/scikit-learn/issues/21755 */display: inline-block !important;position: relative;}#sk-container-id-23 div.sk-text-repr-fallback {display: none;}</style><div id=\"sk-container-id-23\" class=\"sk-top-container\"><div class=\"sk-text-repr-fallback\"><pre>SVC()</pre><b>In a Jupyter environment, please rerun this cell to show the HTML representation or trust the notebook. <br />On GitHub, the HTML representation is unable to render, please try loading this page with nbviewer.org.</b></div><div class=\"sk-container\" hidden><div class=\"sk-item\"><div class=\"sk-estimator sk-toggleable\"><input class=\"sk-toggleable__control sk-hidden--visually\" id=\"sk-estimator-id-23\" type=\"checkbox\" checked><label for=\"sk-estimator-id-23\" class=\"sk-toggleable__label sk-toggleable__label-arrow\">SVC</label><div class=\"sk-toggleable__content\"><pre>SVC()</pre></div></div></div></div></div>"
            ]
          },
          "metadata": {},
          "execution_count": 210
        }
      ]
    },
    {
      "cell_type": "code",
      "source": [
        "accuracy_score(y_train, svc.predict(df_train))"
      ],
      "metadata": {
        "colab": {
          "base_uri": "https://localhost:8080/"
        },
        "id": "jnZWBsaafQpl",
        "outputId": "d55bb909-3f82-429a-930a-5e347b5cc328"
      },
      "execution_count": 211,
      "outputs": [
        {
          "output_type": "execute_result",
          "data": {
            "text/plain": [
              "0.7379823967501693"
            ]
          },
          "metadata": {},
          "execution_count": 211
        }
      ]
    },
    {
      "cell_type": "code",
      "source": [
        "y_pred= svc.predict(df_test)"
      ],
      "metadata": {
        "id": "lYB7nel0fu-6"
      },
      "execution_count": 212,
      "outputs": []
    },
    {
      "cell_type": "code",
      "source": [
        "maping = {0:'SAD', 1:'OTHER', 2:'HAPPY',3: 'ANGRY', 4:'FEAR'}"
      ],
      "metadata": {
        "id": "-54DIugAf1-w"
      },
      "execution_count": 214,
      "outputs": []
    },
    {
      "cell_type": "code",
      "source": [
        "y_pred = pd.Series(y_pred).map(maping)"
      ],
      "metadata": {
        "id": "LHnZYlTSgHpi"
      },
      "execution_count": 217,
      "outputs": []
    },
    {
      "cell_type": "code",
      "source": [
        "data['Y'] = y_pred"
      ],
      "metadata": {
        "id": "gj8G-8KggK1Q"
      },
      "execution_count": 220,
      "outputs": []
    },
    {
      "cell_type": "code",
      "source": [
        "data.columns = ['X', 'Y']"
      ],
      "metadata": {
        "id": "zidGWt1Ngfq6"
      },
      "execution_count": 222,
      "outputs": []
    },
    {
      "cell_type": "code",
      "source": [
        "data.to_csv('output.csv')"
      ],
      "metadata": {
        "id": "DpVWeJTaglEK"
      },
      "execution_count": 224,
      "outputs": []
    }
  ],
  "metadata": {
    "kernelspec": {
      "display_name": "Python 3",
      "language": "python",
      "name": "python3"
    },
    "language_info": {
      "codemirror_mode": {
        "name": "ipython",
        "version": 3
      },
      "file_extension": ".py",
      "mimetype": "text/x-python",
      "name": "python",
      "nbconvert_exporter": "python",
      "pygments_lexer": "ipython3",
      "version": "3.11.9"
    },
    "colab": {
      "provenance": []
    }
  },
  "nbformat": 4,
  "nbformat_minor": 0
}